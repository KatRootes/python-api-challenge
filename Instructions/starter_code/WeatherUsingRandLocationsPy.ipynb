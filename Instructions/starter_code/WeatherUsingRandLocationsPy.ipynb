{
 "cells": [
  {
   "cell_type": "markdown",
   "metadata": {},
   "source": [
    "# WeatherPy\n",
    "----\n",
    "\n",
    "#### Note\n",
    "* Instructions have been included for each segment. You do not have to follow them exactly, but they are included to help you think through the steps."
   ]
  },
  {
   "cell_type": "code",
   "execution_count": 1,
   "metadata": {
    "scrolled": true
   },
   "outputs": [],
   "source": [
    "# Dependencies and Setup\n",
    "import matplotlib.pyplot as plt\n",
    "import pandas as pd\n",
    "import numpy as np\n",
    "import requests\n",
    "import time\n",
    "import json\n",
    "\n",
    "# Import API key\n",
    "from api_keys import api_key\n",
    "\n",
    "# Incorporated citipy to determine city and country code based on latitude and longitude\n",
    "from citipy import citipy\n",
    "\n",
    "# Output File (CSV)\n",
    "output_data_file = \"output_data/cities.csv\"\n",
    "\n",
    "# Range of latitudes and longitudes\n",
    "lat_range = (-90, 90)\n",
    "lng_range = (-180, 180)"
   ]
  },
  {
   "cell_type": "code",
   "execution_count": 2,
   "metadata": {},
   "outputs": [],
   "source": [
    "# Save config information.\n",
    "weatherUrl = \"http://api.openweathermap.org/data/2.5/weather?\"\n",
    "units = \"metric\"\n",
    "\n",
    "# Build partial query URL\n",
    "weatherQueryUrl = f\"{weatherUrl}appid={api_key}&units={units}&q=\"\n",
    "weatherQueryUrlAlternate = f\"{weatherUrl}appid={api_key}&units={units}\""
   ]
  },
  {
   "cell_type": "markdown",
   "metadata": {},
   "source": [
    "## Generate Cities List\n",
    "NOTE:  citipy only looks for cities with at least 500 people.  This may impact our ability to find cities near the two poles if population density is not high enough."
   ]
  },
  {
   "cell_type": "code",
   "execution_count": 3,
   "metadata": {},
   "outputs": [
    {
     "data": {
      "text/html": [
       "<div>\n",
       "<style scoped>\n",
       "    .dataframe tbody tr th:only-of-type {\n",
       "        vertical-align: middle;\n",
       "    }\n",
       "\n",
       "    .dataframe tbody tr th {\n",
       "        vertical-align: top;\n",
       "    }\n",
       "\n",
       "    .dataframe thead th {\n",
       "        text-align: right;\n",
       "    }\n",
       "</style>\n",
       "<table border=\"1\" class=\"dataframe\">\n",
       "  <thead>\n",
       "    <tr style=\"text-align: right;\">\n",
       "      <th></th>\n",
       "      <th>City</th>\n",
       "      <th>Country Code</th>\n",
       "      <th>Latitude Random</th>\n",
       "      <th>Longitude Random</th>\n",
       "    </tr>\n",
       "  </thead>\n",
       "  <tbody>\n",
       "    <tr>\n",
       "      <td>0</td>\n",
       "      <td>todos santos</td>\n",
       "      <td>mx</td>\n",
       "      <td>23.492594</td>\n",
       "      <td>-111.269359</td>\n",
       "    </tr>\n",
       "    <tr>\n",
       "      <td>1</td>\n",
       "      <td>omboue</td>\n",
       "      <td>ga</td>\n",
       "      <td>-6.548385</td>\n",
       "      <td>1.249311</td>\n",
       "    </tr>\n",
       "    <tr>\n",
       "      <td>2</td>\n",
       "      <td>umm lajj</td>\n",
       "      <td>sa</td>\n",
       "      <td>24.377963</td>\n",
       "      <td>36.998974</td>\n",
       "    </tr>\n",
       "    <tr>\n",
       "      <td>3</td>\n",
       "      <td>mataura</td>\n",
       "      <td>pf</td>\n",
       "      <td>-78.079215</td>\n",
       "      <td>-143.337653</td>\n",
       "    </tr>\n",
       "    <tr>\n",
       "      <td>4</td>\n",
       "      <td>salalah</td>\n",
       "      <td>om</td>\n",
       "      <td>10.597511</td>\n",
       "      <td>61.847433</td>\n",
       "    </tr>\n",
       "    <tr>\n",
       "      <td>5</td>\n",
       "      <td>kopavogur</td>\n",
       "      <td>is</td>\n",
       "      <td>64.128288</td>\n",
       "      <td>-21.827774</td>\n",
       "    </tr>\n",
       "    <tr>\n",
       "      <td>6</td>\n",
       "      <td>ushuaia</td>\n",
       "      <td>ar</td>\n",
       "      <td>-54.799999</td>\n",
       "      <td>-68.300003</td>\n",
       "    </tr>\n",
       "  </tbody>\n",
       "</table>\n",
       "</div>"
      ],
      "text/plain": [
       "           City Country Code  Latitude Random  Longitude Random\n",
       "0  todos santos           mx        23.492594       -111.269359\n",
       "1        omboue           ga        -6.548385          1.249311\n",
       "2      umm lajj           sa        24.377963         36.998974\n",
       "3       mataura           pf       -78.079215       -143.337653\n",
       "4       salalah           om        10.597511         61.847433\n",
       "5     kopavogur           is        64.128288        -21.827774\n",
       "6       ushuaia           ar       -54.799999        -68.300003"
      ]
     },
     "execution_count": 3,
     "metadata": {},
     "output_type": "execute_result"
    }
   ],
   "source": [
    "# List for holding lat_lngs and cities\n",
    "lat_lngs = []\n",
    "locations = pd.DataFrame()\n",
    "\n",
    "# Create a set of random lat and lng combinations\n",
    "lats = np.random.uniform(low=-90.000, high=90.000, size=5)\n",
    "lngs = np.random.uniform(low=-180.000, high=180.000, size=5)\n",
    "\n",
    "# Add Northernmost city > 500 Reykjavík, Iceland\n",
    "# Add Southernmost city > 500 Ushuaia, Argentina \n",
    "lats = np.append(lats, [64.128288, -54.7999992])\n",
    "lngs = np.append(lngs, [-21.827774, -68.3000031])\n",
    "lat_lngs = zip(lats, lngs)\n",
    "\n",
    "latLngs = pd.DataFrame(list(zip(lats,lngs)), columns=[\"Latitude\", \"Longitude\"])\n",
    "\n",
    "# Identify nearest city for each lat, lng combination\n",
    "i = 0\n",
    "for lat_lng in lat_lngs:\n",
    "    result = citipy.nearest_city(lat_lng[0], lat_lng[1])\n",
    "    city = result.city_name\n",
    "    countryCode = result.country_code\n",
    "   \n",
    "    # add it to a our cities list\n",
    "    locations.loc[i,\"City\"] = city\n",
    "    locations.loc[i, \"Country Code\"] = countryCode\n",
    "\n",
    "    locations.loc[i,\"Latitude Random\"] = lat_lng[0]\n",
    "    locations.loc[i,\"Longitude Random\"] = lat_lng[1]\n",
    "    i+=1\n",
    "    \n",
    "\n",
    "# Print the city count to confirm sufficient count\n",
    "locations = locations.drop_duplicates(keep=\"first\")\n",
    "#len(locations)\n",
    "#latLngs\n",
    "locations"
   ]
  },
  {
   "cell_type": "code",
   "execution_count": 4,
   "metadata": {},
   "outputs": [
    {
     "name": "stdout",
     "output_type": "stream",
     "text": [
      "0 = 23.49259404614608, -111.26935897028703\n",
      "1 = -6.548385451948278, 1.2493109246081247\n",
      "2 = 24.37796322412794, 36.99897390308371\n",
      "3 = -78.0792148792857, -143.3376525726676\n",
      "4 = 10.59751061091987, 61.84743295468877\n",
      "5 = 64.128288, -21.827774\n",
      "6 = -54.7999992, -68.3000031\n"
     ]
    }
   ],
   "source": [
    "type(latLngs)\n",
    "for index, lL in latLngs.iterrows():\n",
    "    print(f\"{index} = {lL['Latitude']}, {lL['Longitude']}\")"
   ]
  },
  {
   "cell_type": "markdown",
   "metadata": {},
   "source": [
    "## Latitude vs Longitude\n",
    "Check for even distribution"
   ]
  },
  {
   "cell_type": "code",
   "execution_count": 5,
   "metadata": {},
   "outputs": [
    {
     "data": {
      "image/png": "[encoded data removed]",
      "text/plain": [
       "<Figure size 432x288 with 1 Axes>"
      ]
     },
     "metadata": {
      "needs_background": "light"
     },
     "output_type": "display_data"
    }
   ],
   "source": [
    "# Plot Latitude vs Longitude\n",
    "plt.scatter(lngs, lats, c=\"b\", alpha=0.5)\n",
    "plt.title(f'Latitude vs Longitude')\n",
    "plt.xlabel('Longitude')\n",
    "plt.ylabel('Latitude')\n",
    "plt.grid(alpha=0.5)\n",
    "\n",
    "# Save the image\n",
    "plt.savefig(\"../Images/LatvsLonDisbursement_RandomNoCityYet.png\")\n",
    "plt.show()"
   ]
  },
  {
   "cell_type": "markdown",
   "metadata": {},
   "source": [
    "### Perform API Calls\n",
    "* Perform a weather check on each city using a series of successive API calls.\n",
    "* Include a print log of each city as it'sbeing processed (with the city number and city name).\n"
   ]
  },
  {
   "cell_type": "code",
   "execution_count": 6,
   "metadata": {},
   "outputs": [
    {
     "data": {
      "text/html": [
       "<div>\n",
       "<style scoped>\n",
       "    .dataframe tbody tr th:only-of-type {\n",
       "        vertical-align: middle;\n",
       "    }\n",
       "\n",
       "    .dataframe tbody tr th {\n",
       "        vertical-align: top;\n",
       "    }\n",
       "\n",
       "    .dataframe thead th {\n",
       "        text-align: right;\n",
       "    }\n",
       "</style>\n",
       "<table border=\"1\" class=\"dataframe\">\n",
       "  <thead>\n",
       "    <tr style=\"text-align: right;\">\n",
       "      <th></th>\n",
       "    </tr>\n",
       "  </thead>\n",
       "  <tbody>\n",
       "  </tbody>\n",
       "</table>\n",
       "</div>"
      ],
      "text/plain": [
       "Empty DataFrame\n",
       "Columns: []\n",
       "Index: []"
      ]
     },
     "execution_count": 6,
     "metadata": {},
     "output_type": "execute_result"
    }
   ],
   "source": [
    "weather = pd.DataFrame()\n",
    "weather"
   ]
  },
  {
   "cell_type": "code",
   "execution_count": 7,
   "metadata": {},
   "outputs": [
    {
     "name": "stdout",
     "output_type": "stream",
     "text": [
      "Missing field/result for mataura, pf... skipping.\n"
     ]
    }
   ],
   "source": [
    "#index = 0\n",
    "for index, location in locations.iterrows():\n",
    "    time.sleep(2)\n",
    "    response = requests.get(weatherQueryUrl + locations.loc[index][\"City\"] + \",\" + locations.loc[index][\"Country Code\"]).json()\n",
    "    \n",
    "    try:\n",
    "       \n",
    "        if (len(response)>0):\n",
    "            weather.loc[index, \"City\"] = response[\"name\"]\n",
    "            weather.loc[index, \"Cloudiness\"] = response[\"clouds\"][\"all\"]\n",
    "            weather.loc[index, \"Country\"] = response[\"sys\"][\"country\"]\n",
    "            weather.loc[index, \"Humidity\"] = response[\"main\"][\"humidity\"]\n",
    "            weather.loc[index, \"Lat\"] = response[\"coord\"][\"lat\"]\n",
    "            weather.loc[index, \"Lon\"] = response[\"coord\"][\"lon\"]\n",
    "            weather.loc[index, \"Temp\"] = response[\"main\"][\"temp\"]\n",
    "            weather.loc[index, \"Wind Speed\"] = response[\"wind\"][\"speed\"]\n",
    "            weather.loc[index, \"Latitude Random\"] = location[\"Latitude Random\"]\n",
    "            weather.loc[index, \"Longitude Random\"] = location[\"Longitude Random\"]\n",
    "            \n",
    "    except(KeyError, IndexError):\n",
    "        print(f\"Missing field/result for {locations.loc[index]['City']}, {locations.loc[index]['Country Code']}... skipping.\")\n"
   ]
  },
  {
   "cell_type": "code",
   "execution_count": 8,
   "metadata": {},
   "outputs": [
    {
     "data": {
      "text/html": [
       "<div>\n",
       "<style scoped>\n",
       "    .dataframe tbody tr th:only-of-type {\n",
       "        vertical-align: middle;\n",
       "    }\n",
       "\n",
       "    .dataframe tbody tr th {\n",
       "        vertical-align: top;\n",
       "    }\n",
       "\n",
       "    .dataframe thead th {\n",
       "        text-align: right;\n",
       "    }\n",
       "</style>\n",
       "<table border=\"1\" class=\"dataframe\">\n",
       "  <thead>\n",
       "    <tr style=\"text-align: right;\">\n",
       "      <th></th>\n",
       "      <th>City</th>\n",
       "      <th>Cloudiness</th>\n",
       "      <th>Country</th>\n",
       "      <th>Humidity</th>\n",
       "      <th>Lat</th>\n",
       "      <th>Lon</th>\n",
       "      <th>Temp</th>\n",
       "      <th>Wind Speed</th>\n",
       "      <th>Latitude Random</th>\n",
       "      <th>Longitude Random</th>\n",
       "    </tr>\n",
       "  </thead>\n",
       "  <tbody>\n",
       "    <tr>\n",
       "      <td>0</td>\n",
       "      <td>Todos Santos</td>\n",
       "      <td>5.0</td>\n",
       "      <td>MX</td>\n",
       "      <td>38.0</td>\n",
       "      <td>23.45</td>\n",
       "      <td>-110.23</td>\n",
       "      <td>30.87</td>\n",
       "      <td>2.60</td>\n",
       "      <td>23.492594</td>\n",
       "      <td>-111.269359</td>\n",
       "    </tr>\n",
       "    <tr>\n",
       "      <td>1</td>\n",
       "      <td>Omboue</td>\n",
       "      <td>100.0</td>\n",
       "      <td>GA</td>\n",
       "      <td>84.0</td>\n",
       "      <td>-1.57</td>\n",
       "      <td>9.26</td>\n",
       "      <td>25.47</td>\n",
       "      <td>2.68</td>\n",
       "      <td>-6.548385</td>\n",
       "      <td>1.249311</td>\n",
       "    </tr>\n",
       "    <tr>\n",
       "      <td>2</td>\n",
       "      <td>Umm Lajj</td>\n",
       "      <td>0.0</td>\n",
       "      <td>SA</td>\n",
       "      <td>70.0</td>\n",
       "      <td>25.02</td>\n",
       "      <td>37.27</td>\n",
       "      <td>29.32</td>\n",
       "      <td>3.61</td>\n",
       "      <td>24.377963</td>\n",
       "      <td>36.998974</td>\n",
       "    </tr>\n",
       "    <tr>\n",
       "      <td>4</td>\n",
       "      <td>Salalah</td>\n",
       "      <td>40.0</td>\n",
       "      <td>OM</td>\n",
       "      <td>83.0</td>\n",
       "      <td>17.01</td>\n",
       "      <td>54.10</td>\n",
       "      <td>27.00</td>\n",
       "      <td>1.50</td>\n",
       "      <td>10.597511</td>\n",
       "      <td>61.847433</td>\n",
       "    </tr>\n",
       "    <tr>\n",
       "      <td>5</td>\n",
       "      <td>Kopavogur</td>\n",
       "      <td>99.0</td>\n",
       "      <td>IS</td>\n",
       "      <td>66.0</td>\n",
       "      <td>64.11</td>\n",
       "      <td>-21.91</td>\n",
       "      <td>9.26</td>\n",
       "      <td>5.70</td>\n",
       "      <td>64.128288</td>\n",
       "      <td>-21.827774</td>\n",
       "    </tr>\n",
       "    <tr>\n",
       "      <td>6</td>\n",
       "      <td>Ushuaia</td>\n",
       "      <td>75.0</td>\n",
       "      <td>AR</td>\n",
       "      <td>95.0</td>\n",
       "      <td>-54.81</td>\n",
       "      <td>-68.31</td>\n",
       "      <td>0.00</td>\n",
       "      <td>9.30</td>\n",
       "      <td>-54.799999</td>\n",
       "      <td>-68.300003</td>\n",
       "    </tr>\n",
       "  </tbody>\n",
       "</table>\n",
       "</div>"
      ],
      "text/plain": [
       "           City  Cloudiness Country  Humidity    Lat     Lon   Temp  \\\n",
       "0  Todos Santos         5.0      MX      38.0  23.45 -110.23  30.87   \n",
       "1        Omboue       100.0      GA      84.0  -1.57    9.26  25.47   \n",
       "2      Umm Lajj         0.0      SA      70.0  25.02   37.27  29.32   \n",
       "4       Salalah        40.0      OM      83.0  17.01   54.10  27.00   \n",
       "5     Kopavogur        99.0      IS      66.0  64.11  -21.91   9.26   \n",
       "6       Ushuaia        75.0      AR      95.0 -54.81  -68.31   0.00   \n",
       "\n",
       "   Wind Speed  Latitude Random  Longitude Random  \n",
       "0        2.60        23.492594       -111.269359  \n",
       "1        2.68        -6.548385          1.249311  \n",
       "2        3.61        24.377963         36.998974  \n",
       "4        1.50        10.597511         61.847433  \n",
       "5        5.70        64.128288        -21.827774  \n",
       "6        9.30       -54.799999        -68.300003  "
      ]
     },
     "execution_count": 8,
     "metadata": {},
     "output_type": "execute_result"
    }
   ],
   "source": [
    "weather = weather.dropna(axis=0, how='any', thresh=1, inplace=False)\n",
    "weather"
   ]
  },
  {
   "cell_type": "code",
   "execution_count": 9,
   "metadata": {},
   "outputs": [
    {
     "name": "stdout",
     "output_type": "stream",
     "text": [
      "Missing field/result for -6.548385451948278, 1.2493109246081247... skipping.\n",
      "Missing field/result for -78.0792148792857, -143.3376525726676... skipping.\n",
      "Missing field/result for 10.59751061091987, 61.84743295468877... skipping.\n"
     ]
    }
   ],
   "source": [
    "weatherAlternateMethod = pd.DataFrame()\n",
    "\n",
    "for index, latLng in latLngs.iterrows():\n",
    "    time.sleep(2)\n",
    "#    print(weatherQueryUrlAlternate + \"&lat=\" + str(latLng['Latitude']) + \"&lon=\" + str(latLng['Longitude']))\n",
    "    response = requests.get(weatherQueryUrlAlternate + \"&lat=\" + str(latLng[\"Latitude\"]) + \"&lon=\" + str(latLng[\"Longitude\"])).json()\n",
    "    \n",
    "    try:\n",
    "       \n",
    "        if (len(response)>0):\n",
    "            weatherAlternateMethod.loc[index, \"City\"] = response[\"name\"]\n",
    "            weatherAlternateMethod.loc[index, \"Cloudiness\"] = response[\"clouds\"][\"all\"]\n",
    "            weatherAlternateMethod.loc[index, \"Country\"] = response[\"sys\"][\"country\"]\n",
    "            weatherAlternateMethod.loc[index, \"Humidity\"] = response[\"main\"][\"humidity\"]\n",
    "            weatherAlternateMethod.loc[index, \"Lat\"] = response[\"coord\"][\"lat\"]\n",
    "            weatherAlternateMethod.loc[index, \"Lon\"] = response[\"coord\"][\"lon\"]\n",
    "            weatherAlternateMethod.loc[index, \"Temp\"] = response[\"main\"][\"temp\"]\n",
    "            weatherAlternateMethod.loc[index, \"Wind Speed\"] = response[\"wind\"][\"speed\"]\n",
    "                \n",
    "    except(KeyError, IndexError):\n",
    "        print(f\"Missing field/result for {latLng['Latitude']}, {latLng['Longitude']}... skipping.\")\n"
   ]
  },
  {
   "cell_type": "code",
   "execution_count": 10,
   "metadata": {},
   "outputs": [
    {
     "data": {
      "text/html": [
       "<div>\n",
       "<style scoped>\n",
       "    .dataframe tbody tr th:only-of-type {\n",
       "        vertical-align: middle;\n",
       "    }\n",
       "\n",
       "    .dataframe tbody tr th {\n",
       "        vertical-align: top;\n",
       "    }\n",
       "\n",
       "    .dataframe thead th {\n",
       "        text-align: right;\n",
       "    }\n",
       "</style>\n",
       "<table border=\"1\" class=\"dataframe\">\n",
       "  <thead>\n",
       "    <tr style=\"text-align: right;\">\n",
       "      <th></th>\n",
       "      <th>City</th>\n",
       "      <th>Cloudiness</th>\n",
       "      <th>Country</th>\n",
       "      <th>Humidity</th>\n",
       "      <th>Lat</th>\n",
       "      <th>Lon</th>\n",
       "      <th>Temp</th>\n",
       "      <th>Wind Speed</th>\n",
       "    </tr>\n",
       "  </thead>\n",
       "  <tbody>\n",
       "    <tr>\n",
       "      <td>0</td>\n",
       "      <td>Todos Santos</td>\n",
       "      <td>80.0</td>\n",
       "      <td>MX</td>\n",
       "      <td>75.0</td>\n",
       "      <td>23.49</td>\n",
       "      <td>-111.27</td>\n",
       "      <td>26.07</td>\n",
       "      <td>7.70</td>\n",
       "    </tr>\n",
       "    <tr>\n",
       "      <td>2</td>\n",
       "      <td>Umm Lajj</td>\n",
       "      <td>0.0</td>\n",
       "      <td>SA</td>\n",
       "      <td>73.0</td>\n",
       "      <td>24.38</td>\n",
       "      <td>37.00</td>\n",
       "      <td>29.06</td>\n",
       "      <td>2.61</td>\n",
       "    </tr>\n",
       "    <tr>\n",
       "      <td>5</td>\n",
       "      <td>Reykjavik</td>\n",
       "      <td>0.0</td>\n",
       "      <td>IS</td>\n",
       "      <td>66.0</td>\n",
       "      <td>64.13</td>\n",
       "      <td>-21.83</td>\n",
       "      <td>9.26</td>\n",
       "      <td>5.70</td>\n",
       "    </tr>\n",
       "    <tr>\n",
       "      <td>6</td>\n",
       "      <td>Ushuaia</td>\n",
       "      <td>75.0</td>\n",
       "      <td>AR</td>\n",
       "      <td>95.0</td>\n",
       "      <td>-54.80</td>\n",
       "      <td>-68.31</td>\n",
       "      <td>0.00</td>\n",
       "      <td>9.30</td>\n",
       "    </tr>\n",
       "  </tbody>\n",
       "</table>\n",
       "</div>"
      ],
      "text/plain": [
       "           City  Cloudiness Country  Humidity    Lat     Lon   Temp  \\\n",
       "0  Todos Santos        80.0      MX      75.0  23.49 -111.27  26.07   \n",
       "2      Umm Lajj         0.0      SA      73.0  24.38   37.00  29.06   \n",
       "5     Reykjavik         0.0      IS      66.0  64.13  -21.83   9.26   \n",
       "6       Ushuaia        75.0      AR      95.0 -54.80  -68.31   0.00   \n",
       "\n",
       "   Wind Speed  \n",
       "0        7.70  \n",
       "2        2.61  \n",
       "5        5.70  \n",
       "6        9.30  "
      ]
     },
     "execution_count": 10,
     "metadata": {},
     "output_type": "execute_result"
    }
   ],
   "source": [
    "weatherAlternateMethod = weatherAlternateMethod.dropna(axis=0, how='any', thresh=5, inplace=False)\n",
    "weatherAlternateMethod"
   ]
  },
  {
   "cell_type": "code",
   "execution_count": 11,
   "metadata": {},
   "outputs": [
    {
     "name": "stdout",
     "output_type": "stream",
     "text": [
      "Started with 7 random locations.\n",
      "Passing the random locations into the Open Weather API resulted in 4 cities.\n",
      "However, using the citipy api to find a city > 500 population nearby resulted in 6 cities.\n"
     ]
    }
   ],
   "source": [
    "print(f\"Started with {len(lats)} random locations.\")\n",
    "print(f\"Passing the random locations into the Open Weather API resulted in {len(weatherAlternateMethod['City'])} cities.\")\n",
    "print(f\"However, using the citipy api to find a city > 500 population nearby resulted in {len(weather['City'])} cities.\")"
   ]
  },
  {
   "cell_type": "code",
   "execution_count": 12,
   "metadata": {},
   "outputs": [
    {
     "data": {
      "text/html": [
       "<div>\n",
       "<style scoped>\n",
       "    .dataframe tbody tr th:only-of-type {\n",
       "        vertical-align: middle;\n",
       "    }\n",
       "\n",
       "    .dataframe tbody tr th {\n",
       "        vertical-align: top;\n",
       "    }\n",
       "\n",
       "    .dataframe thead th {\n",
       "        text-align: right;\n",
       "    }\n",
       "</style>\n",
       "<table border=\"1\" class=\"dataframe\">\n",
       "  <thead>\n",
       "    <tr style=\"text-align: right;\">\n",
       "      <th></th>\n",
       "      <th>City</th>\n",
       "      <th>Cloudiness</th>\n",
       "      <th>Country</th>\n",
       "      <th>Humidity</th>\n",
       "      <th>Lat</th>\n",
       "      <th>Lon</th>\n",
       "      <th>Temp</th>\n",
       "      <th>Wind Speed</th>\n",
       "      <th>Latitude Random</th>\n",
       "      <th>Longitude Random</th>\n",
       "      <th>Lat Diff</th>\n",
       "      <th>Lon Diff</th>\n",
       "    </tr>\n",
       "  </thead>\n",
       "  <tbody>\n",
       "    <tr>\n",
       "      <td>0</td>\n",
       "      <td>Todos Santos</td>\n",
       "      <td>5.0</td>\n",
       "      <td>MX</td>\n",
       "      <td>38.0</td>\n",
       "      <td>23.45</td>\n",
       "      <td>-110.23</td>\n",
       "      <td>30.87</td>\n",
       "      <td>2.60</td>\n",
       "      <td>23.492594</td>\n",
       "      <td>-111.269359</td>\n",
       "      <td>0.042594</td>\n",
       "      <td>-1.039359</td>\n",
       "    </tr>\n",
       "    <tr>\n",
       "      <td>1</td>\n",
       "      <td>Omboue</td>\n",
       "      <td>100.0</td>\n",
       "      <td>GA</td>\n",
       "      <td>84.0</td>\n",
       "      <td>-1.57</td>\n",
       "      <td>9.26</td>\n",
       "      <td>25.47</td>\n",
       "      <td>2.68</td>\n",
       "      <td>-6.548385</td>\n",
       "      <td>1.249311</td>\n",
       "      <td>-4.978385</td>\n",
       "      <td>-8.010689</td>\n",
       "    </tr>\n",
       "    <tr>\n",
       "      <td>2</td>\n",
       "      <td>Umm Lajj</td>\n",
       "      <td>0.0</td>\n",
       "      <td>SA</td>\n",
       "      <td>70.0</td>\n",
       "      <td>25.02</td>\n",
       "      <td>37.27</td>\n",
       "      <td>29.32</td>\n",
       "      <td>3.61</td>\n",
       "      <td>24.377963</td>\n",
       "      <td>36.998974</td>\n",
       "      <td>-0.642037</td>\n",
       "      <td>-0.271026</td>\n",
       "    </tr>\n",
       "    <tr>\n",
       "      <td>4</td>\n",
       "      <td>Salalah</td>\n",
       "      <td>40.0</td>\n",
       "      <td>OM</td>\n",
       "      <td>83.0</td>\n",
       "      <td>17.01</td>\n",
       "      <td>54.10</td>\n",
       "      <td>27.00</td>\n",
       "      <td>1.50</td>\n",
       "      <td>10.597511</td>\n",
       "      <td>61.847433</td>\n",
       "      <td>-6.412489</td>\n",
       "      <td>7.747433</td>\n",
       "    </tr>\n",
       "    <tr>\n",
       "      <td>5</td>\n",
       "      <td>Kopavogur</td>\n",
       "      <td>99.0</td>\n",
       "      <td>IS</td>\n",
       "      <td>66.0</td>\n",
       "      <td>64.11</td>\n",
       "      <td>-21.91</td>\n",
       "      <td>9.26</td>\n",
       "      <td>5.70</td>\n",
       "      <td>64.128288</td>\n",
       "      <td>-21.827774</td>\n",
       "      <td>0.018288</td>\n",
       "      <td>0.082226</td>\n",
       "    </tr>\n",
       "    <tr>\n",
       "      <td>6</td>\n",
       "      <td>Ushuaia</td>\n",
       "      <td>75.0</td>\n",
       "      <td>AR</td>\n",
       "      <td>95.0</td>\n",
       "      <td>-54.81</td>\n",
       "      <td>-68.31</td>\n",
       "      <td>0.00</td>\n",
       "      <td>9.30</td>\n",
       "      <td>-54.799999</td>\n",
       "      <td>-68.300003</td>\n",
       "      <td>0.010001</td>\n",
       "      <td>0.009997</td>\n",
       "    </tr>\n",
       "  </tbody>\n",
       "</table>\n",
       "</div>"
      ],
      "text/plain": [
       "           City  Cloudiness Country  Humidity    Lat     Lon   Temp  \\\n",
       "0  Todos Santos         5.0      MX      38.0  23.45 -110.23  30.87   \n",
       "1        Omboue       100.0      GA      84.0  -1.57    9.26  25.47   \n",
       "2      Umm Lajj         0.0      SA      70.0  25.02   37.27  29.32   \n",
       "4       Salalah        40.0      OM      83.0  17.01   54.10  27.00   \n",
       "5     Kopavogur        99.0      IS      66.0  64.11  -21.91   9.26   \n",
       "6       Ushuaia        75.0      AR      95.0 -54.81  -68.31   0.00   \n",
       "\n",
       "   Wind Speed  Latitude Random  Longitude Random  Lat Diff  Lon Diff  \n",
       "0        2.60        23.492594       -111.269359  0.042594 -1.039359  \n",
       "1        2.68        -6.548385          1.249311 -4.978385 -8.010689  \n",
       "2        3.61        24.377963         36.998974 -0.642037 -0.271026  \n",
       "4        1.50        10.597511         61.847433 -6.412489  7.747433  \n",
       "5        5.70        64.128288        -21.827774  0.018288  0.082226  \n",
       "6        9.30       -54.799999        -68.300003  0.010001  0.009997  "
      ]
     },
     "execution_count": 12,
     "metadata": {},
     "output_type": "execute_result"
    }
   ],
   "source": [
    "weather[\"Lat Diff\"] = weather[\"Latitude Random\"] - weather[\"Lat\"]\n",
    "weather[\"Lon Diff\"] = weather[\"Longitude Random\"] - weather[\"Lon\"]\n",
    "weather"
   ]
  },
  {
   "cell_type": "code",
   "execution_count": 13,
   "metadata": {},
   "outputs": [
    {
     "data": {
      "text/plain": [
       "'10/07/2019'"
      ]
     },
     "execution_count": 13,
     "metadata": {},
     "output_type": "execute_result"
    }
   ],
   "source": [
    "# Grab the date\n",
    "tupleTime = time.localtime() # get struct_time\n",
    "timeString = time.strftime(\"%m/%d/%Y\", tupleTime)\n",
    "timeString"
   ]
  },
  {
   "cell_type": "code",
   "execution_count": 14,
   "metadata": {},
   "outputs": [
    {
     "data": {
      "image/png": "[encoded data removed]",
      "text/plain": [
       "<Figure size 432x288 with 1 Axes>"
      ]
     },
     "metadata": {
      "needs_background": "light"
     },
     "output_type": "display_data"
    }
   ],
   "source": [
    "# Plot Latitude vs Longitude - Random - Actual\n",
    "plt.scatter(weather[\"Lon Diff\"], weather[\"Lat Diff\"], c=\"b\", alpha=0.5)\n",
    "plt.title(f'Latitude vs Longitude Random - Actual ({timeString})')\n",
    "plt.xlabel('Longitude')\n",
    "plt.ylabel('Latitude')\n",
    "plt.grid(alpha=0.5)\n",
    "\n",
    "# Save the image\n",
    "plt.savefig(\"../Images/LonLat_Diff.png\")\n",
    "plt.show()"
   ]
  },
  {
   "cell_type": "markdown",
   "metadata": {},
   "source": [
    "### Convert Raw Data to DataFrame\n",
    "* Export the city data into a .csv.\n",
    "* Display the DataFrame"
   ]
  },
  {
   "cell_type": "code",
   "execution_count": 15,
   "metadata": {},
   "outputs": [
    {
     "data": {
      "image/png": "[encoded data removed]",
      "text/plain": [
       "<Figure size 576x576 with 1 Axes>"
      ]
     },
     "metadata": {
      "needs_background": "light"
     },
     "output_type": "display_data"
    }
   ],
   "source": [
    "# Plot Latitude vs Longitude - Random vs Actual\n",
    "plt.figure(figsize=(8,8))\n",
    "plt.scatter(weather[\"Lon\"], weather[\"Lat\"], c=\"g\", alpha=0.5, label=\"City\")\n",
    "plt.scatter(weather[\"Longitude Random\"], weather[\"Latitude Random\"], c=\"b\", alpha=0.5, label=\"Random\")\n",
    "plt.title(f'Latitude vs Longitude Random vs Actual ({timeString})')\n",
    "plt.xlabel('Longitude')\n",
    "plt.ylabel('Latitude')\n",
    "plt.legend(loc=\"best\")\n",
    "plt.grid(alpha=0.5)\n",
    "\n",
    "# Save the image\n",
    "plt.savefig(\"../Images/LatvsLon_RandomvsActual.png\")\n",
    "plt.show()"
   ]
  },
  {
   "cell_type": "markdown",
   "metadata": {},
   "source": [
    "### Plotting the Data\n",
    "* Use proper labeling of the plots using plot titles (including date of analysis) and axes labels.\n",
    "* Save the plotted figures as .pngs."
   ]
  },
  {
   "cell_type": "markdown",
   "metadata": {},
   "source": [
    "#### Latitude vs. Temperature Plot"
   ]
  },
  {
   "cell_type": "code",
   "execution_count": 16,
   "metadata": {},
   "outputs": [
    {
     "data": {
      "image/png": "[encoded data removed]",
      "text/plain": [
       "<Figure size 432x288 with 1 Axes>"
      ]
     },
     "metadata": {
      "needs_background": "light"
     },
     "output_type": "display_data"
    }
   ],
   "source": [
    "# Plot Latitude vs Max Temperature\n",
    "plt.scatter(weather[\"Lat\"], weather[\"Temp\"], c=\"b\", alpha=0.5)\n",
    "plt.title(f'Latitude vs Temperature ({timeString})')\n",
    "plt.xlabel('Latitude')\n",
    "plt.ylabel('Temperature (Fahrenheit)')\n",
    "plt.grid(alpha=0.5)\n",
    "\n",
    "# Save the image\n",
    "plt.savefig(\"../Images/LatvsTemperature.png\")\n",
    "plt.show()"
   ]
  },
  {
   "cell_type": "markdown",
   "metadata": {},
   "source": [
    "#### Latitude vs. Humidity Plot"
   ]
  },
  {
   "cell_type": "code",
   "execution_count": 17,
   "metadata": {},
   "outputs": [
    {
     "data": {
      "image/png": "[encoded data removed]",
      "text/plain": [
       "<Figure size 432x288 with 1 Axes>"
      ]
     },
     "metadata": {
      "needs_background": "light"
     },
     "output_type": "display_data"
    }
   ],
   "source": [
    "# Plot Latitude vs Humidity\n",
    "plt.scatter(weather[\"Lat\"], weather[\"Humidity\"], c=\"b\", alpha=0.5)\n",
    "plt.title(f'Latitude vs Humidity ({timeString})')\n",
    "plt.xlabel('Latitude')\n",
    "plt.ylabel('Humidity (%)')\n",
    "plt.grid(alpha=0.5)\n",
    "\n",
    "# Save the image\n",
    "plt.savefig(\"../Images/LatvsHumidity.png\")\n",
    "plt.show()"
   ]
  },
  {
   "cell_type": "markdown",
   "metadata": {},
   "source": [
    "#### Latitude vs. Cloudiness Plot"
   ]
  },
  {
   "cell_type": "code",
   "execution_count": 18,
   "metadata": {},
   "outputs": [
    {
     "data": {
      "image/png": "[encoded data removed]",
      "text/plain": [
       "<Figure size 432x288 with 1 Axes>"
      ]
     },
     "metadata": {
      "needs_background": "light"
     },
     "output_type": "display_data"
    }
   ],
   "source": [
    "# Plot Latitude vs Cloudiness\n",
    "plt.scatter(weather[\"Lat\"], weather[\"Cloudiness\"], c=\"b\", alpha=0.5)\n",
    "plt.title(f'Latitude vs Cloudiness % ({timeString})')\n",
    "plt.xlabel('Latitude')\n",
    "plt.ylabel('Cloudiness (%)')\n",
    "plt.grid(alpha=0.5)\n",
    "\n",
    "# Save the image\n",
    "plt.savefig(\"../Images/LatvsCloudiness.png\")\n",
    "plt.show()"
   ]
  },
  {
   "cell_type": "markdown",
   "metadata": {},
   "source": [
    "#### Latitude vs. Wind Speed Plot"
   ]
  },
  {
   "cell_type": "code",
   "execution_count": 19,
   "metadata": {},
   "outputs": [
    {
     "data": {
      "image/png": "[encoded data removed]",
      "text/plain": [
       "<Figure size 432x288 with 1 Axes>"
      ]
     },
     "metadata": {
      "needs_background": "light"
     },
     "output_type": "display_data"
    }
   ],
   "source": [
    "# Plot Latitude vs Cloudiness\n",
    "plt.scatter(weather[\"Lat\"], weather[\"Wind Speed\"], c=\"b\", alpha=0.5)\n",
    "plt.title(f'Latitude vs Wind Speed (mph) ({timeString})')\n",
    "plt.xlabel('Latitude')\n",
    "plt.ylabel('Wind Speed (mph)')\n",
    "plt.grid(alpha=0.5)\n",
    "\n",
    "# Save the image\n",
    "plt.savefig(\"../Images/LatvsWindSpeed.png\")\n",
    "plt.show()"
   ]
  },
  {
   "cell_type": "markdown",
   "metadata": {},
   "source": [
    "## Longitude vs Latitude\n",
    "Checking for relatively even distribution of resulting cities."
   ]
  },
  {
   "cell_type": "code",
   "execution_count": 20,
   "metadata": {},
   "outputs": [
    {
     "data": {
      "image/png": "[encoded data removed]",
      "text/plain": [
       "<Figure size 432x288 with 1 Axes>"
      ]
     },
     "metadata": {
      "needs_background": "light"
     },
     "output_type": "display_data"
    }
   ],
   "source": [
    "# Plot Latitude vs Cloudiness\n",
    "plt.scatter(weather[\"Lon\"], weather[\"Lat\"], c=\"b\", alpha=0.5)\n",
    "plt.title(f'Latitude vs Longitude ({timeString})')\n",
    "plt.xlabel('Longitude')\n",
    "plt.ylabel('Latitude')\n",
    "plt.grid(alpha=0.5)\n",
    "\n",
    "# Save the image\n",
    "plt.savefig(\"../Images/LatvsLonDisbursement_Final.png\")\n",
    "plt.show()"
   ]
  },
  {
   "cell_type": "markdown",
   "metadata": {},
   "source": [
    "## Notes\n",
    "* citipy only considers cities with at least 500 in their population.  This has a potential for eliminating cities that might be closer to the North Pole or South Pole, resuling in fewer data points at the latitude extremes.\n",
    "* citipy is a limited interface that only returns city and country code, but often there is more than one city in a country with the same name, which could result in multiple responses when calling the open weather map api.  \n",
    "    - While I assumed the first response was the best, this could be improved upon by comparing each result to the original latitude and longitude to select the correct city.\n",
    "* Based on multiple cities within the same country sharing a name, I tried using the latitude and longitude directly when calling the open weather map api.  I expected to get a higher percetage of successful results, but instead I received fewer.  Because our Latitude and Longitude are randomly generated they are not necessarily in an area that reports on weather.  The usage of the citipy api improves the probably of finding a result in the open weather map api.  While there is some loss in data in both approaches, the random locations has a much higher drop out rate.\n",
    "* Because using random locations directly produced poor results and because it takes a long time to call citipy api, I removed that code from this jupyter notebook, but I left some of the other things I tried in here anyway.\n",
    "* Plotting random vs city locations shows very few cities near the North and especially the South Pole."
   ]
  },
  {
   "cell_type": "code",
   "execution_count": null,
   "metadata": {},
   "outputs": [],
   "source": []
  }
 ],
 "metadata": {
  "anaconda-cloud": {},
  "kernel_info": {
   "name": "python3"
  },
  "kernelspec": {
   "display_name": "Python 3",
   "language": "python",
   "name": "python3"
  },
  "language_info": {
   "codemirror_mode": {
    "name": "ipython",
    "version": 3
   },
   "file_extension": ".py",
   "mimetype": "text/x-python",
   "name": "python",
   "nbconvert_exporter": "python",
   "pygments_lexer": "ipython3",
   "version": "3.6.9"
  },
  "nteract": {
   "version": "0.12.3"
  }
 },
 "nbformat": 4,
 "nbformat_minor": 2
}
