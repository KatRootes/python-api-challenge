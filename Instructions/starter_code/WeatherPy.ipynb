{
 "cells": [
  {
   "cell_type": "markdown",
   "metadata": {},
   "source": [
    "# WeatherPy\n",
    "----\n",
    "\n",
    "#### Note\n",
    "* Instructions have been included for each segment. You do not have to follow them exactly, but they are included to help you think through the steps."
   ]
  },
  {
   "cell_type": "code",
   "execution_count": 1,
   "metadata": {
    "scrolled": true
   },
   "outputs": [],
   "source": [
    "# Dependencies and Setup\n",
    "import matplotlib.pyplot as plt\n",
    "import pandas as pd\n",
    "import numpy as np\n",
    "import requests\n",
    "import time\n",
    "import json\n",
    "\n",
    "# Import API key\n",
    "from api_keys import api_key\n",
    "\n",
    "# Incorporated citipy to determine city and country code based on latitude and longitude\n",
    "from citipy import citipy\n",
    "\n",
    "# Output File (CSV)\n",
    "output_data_file = \"output_data/cities.csv\"\n",
    "\n",
    "# Range of latitudes and longitudes\n",
    "lat_range = (-90, 90)\n",
    "lng_range = (-180, 180)"
   ]
  },
  {
   "cell_type": "code",
   "execution_count": 2,
   "metadata": {},
   "outputs": [],
   "source": [
    "# Save config information.\n",
    "weatherUrl = \"http://api.openweathermap.org/data/2.5/weather?\"\n",
    "units = \"metric\"\n",
    "\n",
    "# Build partial query URL\n",
    "weatherQueryUrl = f\"{weatherUrl}appid={api_key}&units={units}&q=\"\n",
    "weatherQueryUrlAlternate = f\"{weatherUrl}appid={api_key}&units={units}\""
   ]
  },
  {
   "cell_type": "markdown",
   "metadata": {},
   "source": [
    "## Generate Cities List\n",
    "NOTE:  citipy only looks for cities with at least 500 people.  This may impact our ability to find cities near the two poles if population density is not high enough."
   ]
  },
  {
   "cell_type": "code",
   "execution_count": 3,
   "metadata": {},
   "outputs": [
    {
     "data": {
      "text/html": [
       "<div>\n",
       "<style scoped>\n",
       "    .dataframe tbody tr th:only-of-type {\n",
       "        vertical-align: middle;\n",
       "    }\n",
       "\n",
       "    .dataframe tbody tr th {\n",
       "        vertical-align: top;\n",
       "    }\n",
       "\n",
       "    .dataframe thead th {\n",
       "        text-align: right;\n",
       "    }\n",
       "</style>\n",
       "<table border=\"1\" class=\"dataframe\">\n",
       "  <thead>\n",
       "    <tr style=\"text-align: right;\">\n",
       "      <th></th>\n",
       "      <th>Latitude</th>\n",
       "      <th>Longitude</th>\n",
       "    </tr>\n",
       "  </thead>\n",
       "  <tbody>\n",
       "    <tr>\n",
       "      <td>0</td>\n",
       "      <td>27.770697</td>\n",
       "      <td>57.708718</td>\n",
       "    </tr>\n",
       "    <tr>\n",
       "      <td>1</td>\n",
       "      <td>21.054261</td>\n",
       "      <td>170.424941</td>\n",
       "    </tr>\n",
       "    <tr>\n",
       "      <td>2</td>\n",
       "      <td>-49.903473</td>\n",
       "      <td>23.715801</td>\n",
       "    </tr>\n",
       "    <tr>\n",
       "      <td>3</td>\n",
       "      <td>-87.072535</td>\n",
       "      <td>-27.798977</td>\n",
       "    </tr>\n",
       "    <tr>\n",
       "      <td>4</td>\n",
       "      <td>29.198830</td>\n",
       "      <td>-115.770348</td>\n",
       "    </tr>\n",
       "    <tr>\n",
       "      <td>5</td>\n",
       "      <td>64.128288</td>\n",
       "      <td>-21.827774</td>\n",
       "    </tr>\n",
       "    <tr>\n",
       "      <td>6</td>\n",
       "      <td>-54.799999</td>\n",
       "      <td>-68.300003</td>\n",
       "    </tr>\n",
       "  </tbody>\n",
       "</table>\n",
       "</div>"
      ],
      "text/plain": [
       "    Latitude   Longitude\n",
       "0  27.770697   57.708718\n",
       "1  21.054261  170.424941\n",
       "2 -49.903473   23.715801\n",
       "3 -87.072535  -27.798977\n",
       "4  29.198830 -115.770348\n",
       "5  64.128288  -21.827774\n",
       "6 -54.799999  -68.300003"
      ]
     },
     "execution_count": 3,
     "metadata": {},
     "output_type": "execute_result"
    }
   ],
   "source": [
    "# List for holding lat_lngs and cities\n",
    "lat_lngs = []\n",
    "locations = pd.DataFrame()\n",
    "\n",
    "# Create a set of random lat and lng combinations\n",
    "lats = np.random.uniform(low=-90.000, high=90.000, size=5)\n",
    "lngs = np.random.uniform(low=-180.000, high=180.000, size=5)\n",
    "\n",
    "# Add Northernmost city > 500 Reykjavík, Iceland\n",
    "# Add Southernmost city > 500 Ushuaia, Argentina \n",
    "lats = np.append(lats, [64.128288, -54.7999992])\n",
    "lngs = np.append(lngs, [-21.827774, -68.3000031])\n",
    "lat_lngs = zip(lats, lngs)\n",
    "\n",
    "latLngs = pd.DataFrame(list(zip(lats,lngs)), columns=[\"Latitude\", \"Longitude\"])\n",
    "\n",
    "# Identify nearest city for each lat, lng combination\n",
    "i = 0\n",
    "for lat_lng in lat_lngs:\n",
    "    result = citipy.nearest_city(lat_lng[0], lat_lng[1])\n",
    "    city = result.city_name\n",
    "    countryCode = result.country_code\n",
    "   \n",
    "    # If the city is unique, then add it to a our cities list\n",
    "    locations.loc[i,\"City\"] = city\n",
    "    locations.loc[i, \"Country Code\"] = countryCode\n",
    "    i+=1\n",
    "\n",
    "# Print the city count to confirm sufficient count\n",
    "locations = locations.drop_duplicates(keep=\"first\")\n",
    "len(locations)\n",
    "latLngs"
   ]
  },
  {
   "cell_type": "code",
   "execution_count": 4,
   "metadata": {},
   "outputs": [
    {
     "name": "stdout",
     "output_type": "stream",
     "text": [
      "0 = 27.77069692574976, 57.70871783324688\n",
      "1 = 21.054261323927832, 170.42494112039225\n",
      "2 = -49.90347315213254, 23.71580097100326\n",
      "3 = -87.07253510236094, -27.798977135809054\n",
      "4 = 29.198830453965172, -115.77034777855576\n",
      "5 = 64.128288, -21.827774\n",
      "6 = -54.7999992, -68.3000031\n"
     ]
    }
   ],
   "source": [
    "type(latLngs)\n",
    "for index, lL in latLngs.iterrows():\n",
    "    print(f\"{index} = {lL['Latitude']}, {lL['Longitude']}\")"
   ]
  },
  {
   "cell_type": "markdown",
   "metadata": {},
   "source": [
    "## Latitude vs Longitude\n",
    "Check for even distribution"
   ]
  },
  {
   "cell_type": "code",
   "execution_count": 6,
   "metadata": {},
   "outputs": [
    {
     "data": {
      "image/png": "[encoded data removed]",
      "text/plain": [
       "<Figure size 432x288 with 1 Axes>"
      ]
     },
     "metadata": {
      "needs_background": "light"
     },
     "output_type": "display_data"
    }
   ],
   "source": [
    "# Plot Latitude vs Cloudiness\n",
    "plt.scatter(lngs, lats, c=\"b\", alpha=0.5)\n",
    "plt.title(f'Latitude vs Longitude')\n",
    "plt.xlabel('Longitude')\n",
    "plt.ylabel('Latitude')\n",
    "plt.grid(alpha=0.5)\n",
    "\n",
    "# Save the image\n",
    "plt.savefig(\"../Images/LatvsLonDisbursement_RandomNoCityYet.png\")\n",
    "plt.show()"
   ]
  },
  {
   "cell_type": "markdown",
   "metadata": {},
   "source": [
    "### Perform API Calls\n",
    "* Perform a weather check on each city using a series of successive API calls.\n",
    "* Include a print log of each city as it'sbeing processed (with the city number and city name).\n"
   ]
  },
  {
   "cell_type": "code",
   "execution_count": 7,
   "metadata": {},
   "outputs": [
    {
     "data": {
      "text/html": [
       "<div>\n",
       "<style scoped>\n",
       "    .dataframe tbody tr th:only-of-type {\n",
       "        vertical-align: middle;\n",
       "    }\n",
       "\n",
       "    .dataframe tbody tr th {\n",
       "        vertical-align: top;\n",
       "    }\n",
       "\n",
       "    .dataframe thead th {\n",
       "        text-align: right;\n",
       "    }\n",
       "</style>\n",
       "<table border=\"1\" class=\"dataframe\">\n",
       "  <thead>\n",
       "    <tr style=\"text-align: right;\">\n",
       "      <th></th>\n",
       "    </tr>\n",
       "  </thead>\n",
       "  <tbody>\n",
       "  </tbody>\n",
       "</table>\n",
       "</div>"
      ],
      "text/plain": [
       "Empty DataFrame\n",
       "Columns: []\n",
       "Index: []"
      ]
     },
     "execution_count": 7,
     "metadata": {},
     "output_type": "execute_result"
    }
   ],
   "source": [
    "weather = pd.DataFrame()\n",
    "weather"
   ]
  },
  {
   "cell_type": "code",
   "execution_count": 8,
   "metadata": {},
   "outputs": [
    {
     "name": "stdout",
     "output_type": "stream",
     "text": [
      "Missing field/result for jiroft, ir... skipping.\n",
      "Missing field/result for san quintin, mx... skipping.\n"
     ]
    }
   ],
   "source": [
    "#index = 0\n",
    "for index, location in locations.iterrows():\n",
    "    time.sleep(2)\n",
    "    response = requests.get(weatherQueryUrl + locations.loc[index][\"City\"] + \",\" + locations.loc[index][\"Country Code\"]).json()\n",
    "    \n",
    "    try:\n",
    "       \n",
    "        if (len(response)>0):\n",
    "            weather.loc[index, \"City\"] = response[\"name\"]\n",
    "            weather.loc[index, \"Cloudiness\"] = response[\"clouds\"][\"all\"]\n",
    "            weather.loc[index, \"Country\"] = response[\"sys\"][\"country\"]\n",
    "            weather.loc[index, \"Humidity\"] = response[\"main\"][\"humidity\"]\n",
    "            weather.loc[index, \"Lat\"] = response[\"coord\"][\"lat\"]\n",
    "            weather.loc[index, \"Lon\"] = response[\"coord\"][\"lon\"]\n",
    "            weather.loc[index, \"Temp\"] = response[\"main\"][\"temp\"]\n",
    "            weather.loc[index, \"Wind Speed\"] = response[\"wind\"][\"speed\"]\n",
    "                \n",
    "    except(KeyError, IndexError):\n",
    "        print(f\"Missing field/result for {locations.loc[index]['City']}, {locations.loc[index]['Country Code']}... skipping.\")\n"
   ]
  },
  {
   "cell_type": "code",
   "execution_count": 9,
   "metadata": {},
   "outputs": [
    {
     "data": {
      "text/html": [
       "<div>\n",
       "<style scoped>\n",
       "    .dataframe tbody tr th:only-of-type {\n",
       "        vertical-align: middle;\n",
       "    }\n",
       "\n",
       "    .dataframe tbody tr th {\n",
       "        vertical-align: top;\n",
       "    }\n",
       "\n",
       "    .dataframe thead th {\n",
       "        text-align: right;\n",
       "    }\n",
       "</style>\n",
       "<table border=\"1\" class=\"dataframe\">\n",
       "  <thead>\n",
       "    <tr style=\"text-align: right;\">\n",
       "      <th></th>\n",
       "      <th>City</th>\n",
       "      <th>Cloudiness</th>\n",
       "      <th>Country</th>\n",
       "      <th>Humidity</th>\n",
       "      <th>Lat</th>\n",
       "      <th>Lon</th>\n",
       "      <th>Temp</th>\n",
       "      <th>Wind Speed</th>\n",
       "    </tr>\n",
       "  </thead>\n",
       "  <tbody>\n",
       "    <tr>\n",
       "      <td>1</td>\n",
       "      <td>Butaritari</td>\n",
       "      <td>14.0</td>\n",
       "      <td>KI</td>\n",
       "      <td>66.0</td>\n",
       "      <td>3.07</td>\n",
       "      <td>172.79</td>\n",
       "      <td>29.13</td>\n",
       "      <td>2.10</td>\n",
       "    </tr>\n",
       "    <tr>\n",
       "      <td>2</td>\n",
       "      <td>Bredasdorp</td>\n",
       "      <td>67.0</td>\n",
       "      <td>ZA</td>\n",
       "      <td>87.0</td>\n",
       "      <td>-34.53</td>\n",
       "      <td>20.04</td>\n",
       "      <td>13.57</td>\n",
       "      <td>1.69</td>\n",
       "    </tr>\n",
       "    <tr>\n",
       "      <td>3</td>\n",
       "      <td>Ushuaia</td>\n",
       "      <td>40.0</td>\n",
       "      <td>AR</td>\n",
       "      <td>64.0</td>\n",
       "      <td>-54.81</td>\n",
       "      <td>-68.31</td>\n",
       "      <td>3.00</td>\n",
       "      <td>9.30</td>\n",
       "    </tr>\n",
       "    <tr>\n",
       "      <td>5</td>\n",
       "      <td>Kopavogur</td>\n",
       "      <td>86.0</td>\n",
       "      <td>IS</td>\n",
       "      <td>87.0</td>\n",
       "      <td>64.11</td>\n",
       "      <td>-21.91</td>\n",
       "      <td>8.97</td>\n",
       "      <td>4.10</td>\n",
       "    </tr>\n",
       "  </tbody>\n",
       "</table>\n",
       "</div>"
      ],
      "text/plain": [
       "         City  Cloudiness Country  Humidity    Lat     Lon   Temp  Wind Speed\n",
       "1  Butaritari        14.0      KI      66.0   3.07  172.79  29.13        2.10\n",
       "2  Bredasdorp        67.0      ZA      87.0 -34.53   20.04  13.57        1.69\n",
       "3     Ushuaia        40.0      AR      64.0 -54.81  -68.31   3.00        9.30\n",
       "5   Kopavogur        86.0      IS      87.0  64.11  -21.91   8.97        4.10"
      ]
     },
     "execution_count": 9,
     "metadata": {},
     "output_type": "execute_result"
    }
   ],
   "source": [
    "weather = weather.dropna(axis=0, how='any', thresh=1, inplace=False)\n",
    "weather"
   ]
  },
  {
   "cell_type": "code",
   "execution_count": 10,
   "metadata": {},
   "outputs": [
    {
     "name": "stdout",
     "output_type": "stream",
     "text": [
      "http://api.openweathermap.org/data/2.5/weather?appid=edd502e742ccf7229b63c4206b92bdce&units=metric&lat=27.77069692574976&lon=57.70871783324688\n",
      "http://api.openweathermap.org/data/2.5/weather?appid=edd502e742ccf7229b63c4206b92bdce&units=metric&lat=21.054261323927832&lon=170.42494112039225\n",
      "Missing field/result for -54.7999992, -68.3000031... skipping.\n",
      "http://api.openweathermap.org/data/2.5/weather?appid=edd502e742ccf7229b63c4206b92bdce&units=metric&lat=-49.90347315213254&lon=23.71580097100326\n",
      "Missing field/result for -54.7999992, -68.3000031... skipping.\n",
      "http://api.openweathermap.org/data/2.5/weather?appid=edd502e742ccf7229b63c4206b92bdce&units=metric&lat=-87.07253510236094&lon=-27.798977135809054\n",
      "Missing field/result for -54.7999992, -68.3000031... skipping.\n",
      "http://api.openweathermap.org/data/2.5/weather?appid=edd502e742ccf7229b63c4206b92bdce&units=metric&lat=29.198830453965172&lon=-115.77034777855576\n",
      "http://api.openweathermap.org/data/2.5/weather?appid=edd502e742ccf7229b63c4206b92bdce&units=metric&lat=64.128288&lon=-21.827774\n",
      "http://api.openweathermap.org/data/2.5/weather?appid=edd502e742ccf7229b63c4206b92bdce&units=metric&lat=-54.7999992&lon=-68.3000031\n"
     ]
    }
   ],
   "source": [
    "weatherAlternateMethod = pd.DataFrame()\n",
    "\n",
    "#type(latLngs)\n",
    "#for index, lL in latLngs.iterrows():\n",
    "#    print(f\"{index} = {lL['Latitude']}, {lL['Longitude']}\")\n",
    "\n",
    "for index, latLng in latLngs.iterrows():\n",
    "    time.sleep(2)\n",
    "    print(weatherQueryUrlAlternate + \"&lat=\" + str(latLng[\"Latitude\"]) + \"&lon=\" + str(latLng[\"Longitude\"]))\n",
    "    response = requests.get(weatherQueryUrlAlternate + \"&lat=\" + str(latLng[\"Latitude\"]) + \"&lon=\" + str(latLng[\"Longitude\"])).json()\n",
    "    \n",
    "    try:\n",
    "       \n",
    "        if (len(response)>0):\n",
    "            weatherAlternateMethod.loc[index, \"City\"] = response[\"name\"]\n",
    "            weatherAlternateMethod.loc[index, \"Cloudiness\"] = response[\"clouds\"][\"all\"]\n",
    "            weatherAlternateMethod.loc[index, \"Country\"] = response[\"sys\"][\"country\"]\n",
    "            weatherAlternateMethod.loc[index, \"Humidity\"] = response[\"main\"][\"humidity\"]\n",
    "            weatherAlternateMethod.loc[index, \"Lat\"] = response[\"coord\"][\"lat\"]\n",
    "            weatherAlternateMethod.loc[index, \"Lon\"] = response[\"coord\"][\"lon\"]\n",
    "            weatherAlternateMethod.loc[index, \"Temp\"] = response[\"main\"][\"temp\"]\n",
    "            weatherAlternateMethod.loc[index, \"Wind Speed\"] = response[\"wind\"][\"speed\"]\n",
    "                \n",
    "    except(KeyError, IndexError):\n",
    "        print(f\"Missing field/result for {lat_lng[0]}, {lat_lng[1]}... skipping.\")\n"
   ]
  },
  {
   "cell_type": "code",
   "execution_count": 11,
   "metadata": {},
   "outputs": [
    {
     "data": {
      "text/html": [
       "<div>\n",
       "<style scoped>\n",
       "    .dataframe tbody tr th:only-of-type {\n",
       "        vertical-align: middle;\n",
       "    }\n",
       "\n",
       "    .dataframe tbody tr th {\n",
       "        vertical-align: top;\n",
       "    }\n",
       "\n",
       "    .dataframe thead th {\n",
       "        text-align: right;\n",
       "    }\n",
       "</style>\n",
       "<table border=\"1\" class=\"dataframe\">\n",
       "  <thead>\n",
       "    <tr style=\"text-align: right;\">\n",
       "      <th></th>\n",
       "      <th>City</th>\n",
       "      <th>Cloudiness</th>\n",
       "      <th>Country</th>\n",
       "      <th>Humidity</th>\n",
       "      <th>Lat</th>\n",
       "      <th>Lon</th>\n",
       "      <th>Temp</th>\n",
       "      <th>Wind Speed</th>\n",
       "    </tr>\n",
       "  </thead>\n",
       "  <tbody>\n",
       "    <tr>\n",
       "      <td>0</td>\n",
       "      <td>Minab</td>\n",
       "      <td>0.0</td>\n",
       "      <td>IR</td>\n",
       "      <td>77.0</td>\n",
       "      <td>27.77</td>\n",
       "      <td>57.71</td>\n",
       "      <td>22.68</td>\n",
       "      <td>3.880</td>\n",
       "    </tr>\n",
       "    <tr>\n",
       "      <td>1</td>\n",
       "      <td></td>\n",
       "      <td>12.0</td>\n",
       "      <td>NaN</td>\n",
       "      <td>NaN</td>\n",
       "      <td>NaN</td>\n",
       "      <td>NaN</td>\n",
       "      <td>NaN</td>\n",
       "      <td>NaN</td>\n",
       "    </tr>\n",
       "    <tr>\n",
       "      <td>2</td>\n",
       "      <td></td>\n",
       "      <td>64.0</td>\n",
       "      <td>NaN</td>\n",
       "      <td>NaN</td>\n",
       "      <td>NaN</td>\n",
       "      <td>NaN</td>\n",
       "      <td>NaN</td>\n",
       "      <td>NaN</td>\n",
       "    </tr>\n",
       "    <tr>\n",
       "      <td>3</td>\n",
       "      <td></td>\n",
       "      <td>100.0</td>\n",
       "      <td>NaN</td>\n",
       "      <td>NaN</td>\n",
       "      <td>NaN</td>\n",
       "      <td>NaN</td>\n",
       "      <td>NaN</td>\n",
       "      <td>NaN</td>\n",
       "    </tr>\n",
       "    <tr>\n",
       "      <td>4</td>\n",
       "      <td>Estado de Baja California</td>\n",
       "      <td>2.0</td>\n",
       "      <td>MX</td>\n",
       "      <td>77.0</td>\n",
       "      <td>29.20</td>\n",
       "      <td>-115.78</td>\n",
       "      <td>20.55</td>\n",
       "      <td>6.823</td>\n",
       "    </tr>\n",
       "    <tr>\n",
       "      <td>5</td>\n",
       "      <td>Reykjavik</td>\n",
       "      <td>0.0</td>\n",
       "      <td>IS</td>\n",
       "      <td>87.0</td>\n",
       "      <td>64.13</td>\n",
       "      <td>-21.83</td>\n",
       "      <td>8.97</td>\n",
       "      <td>4.100</td>\n",
       "    </tr>\n",
       "    <tr>\n",
       "      <td>6</td>\n",
       "      <td>Ushuaia</td>\n",
       "      <td>40.0</td>\n",
       "      <td>AR</td>\n",
       "      <td>64.0</td>\n",
       "      <td>-54.80</td>\n",
       "      <td>-68.31</td>\n",
       "      <td>3.00</td>\n",
       "      <td>9.300</td>\n",
       "    </tr>\n",
       "  </tbody>\n",
       "</table>\n",
       "</div>"
      ],
      "text/plain": [
       "                        City  Cloudiness Country  Humidity    Lat     Lon  \\\n",
       "0                      Minab         0.0      IR      77.0  27.77   57.71   \n",
       "1                                   12.0     NaN       NaN    NaN     NaN   \n",
       "2                                   64.0     NaN       NaN    NaN     NaN   \n",
       "3                                  100.0     NaN       NaN    NaN     NaN   \n",
       "4  Estado de Baja California         2.0      MX      77.0  29.20 -115.78   \n",
       "5                  Reykjavik         0.0      IS      87.0  64.13  -21.83   \n",
       "6                    Ushuaia        40.0      AR      64.0 -54.80  -68.31   \n",
       "\n",
       "    Temp  Wind Speed  \n",
       "0  22.68       3.880  \n",
       "1    NaN         NaN  \n",
       "2    NaN         NaN  \n",
       "3    NaN         NaN  \n",
       "4  20.55       6.823  \n",
       "5   8.97       4.100  \n",
       "6   3.00       9.300  "
      ]
     },
     "execution_count": 11,
     "metadata": {},
     "output_type": "execute_result"
    }
   ],
   "source": [
    "weatherAlternateMethod = weatherAlternateMethod.dropna(axis=0, how='any', thresh=1, inplace=False)\n",
    "weatherAlternateMethod"
   ]
  },
  {
   "cell_type": "markdown",
   "metadata": {},
   "source": [
    "### Convert Raw Data to DataFrame\n",
    "* Export the city data into a .csv.\n",
    "* Display the DataFrame"
   ]
  },
  {
   "cell_type": "code",
   "execution_count": 12,
   "metadata": {},
   "outputs": [
    {
     "data": {
      "text/plain": [
       "'10/06/2019'"
      ]
     },
     "execution_count": 12,
     "metadata": {},
     "output_type": "execute_result"
    }
   ],
   "source": [
    "# Grab the date\n",
    "tupleTime = time.localtime() # get struct_time\n",
    "timeString = time.strftime(\"%m/%d/%Y\", tupleTime)\n",
    "timeString"
   ]
  },
  {
   "cell_type": "markdown",
   "metadata": {},
   "source": [
    "### Plotting the Data\n",
    "* Use proper labeling of the plots using plot titles (including date of analysis) and axes labels.\n",
    "* Save the plotted figures as .pngs."
   ]
  },
  {
   "cell_type": "markdown",
   "metadata": {},
   "source": [
    "#### Latitude vs. Temperature Plot"
   ]
  },
  {
   "cell_type": "code",
   "execution_count": 14,
   "metadata": {},
   "outputs": [
    {
     "data": {
      "image/png": "[encoded data removed]",
      "text/plain": [
       "<Figure size 432x288 with 1 Axes>"
      ]
     },
     "metadata": {
      "needs_background": "light"
     },
     "output_type": "display_data"
    }
   ],
   "source": [
    "# Plot Latitude vs Max Temperature\n",
    "plt.scatter(weather[\"Lat\"], weather[\"Temp\"], c=\"b\", alpha=0.5)\n",
    "plt.title(f'Latitude vs Temperature ({timeString})')\n",
    "plt.xlabel('Latitude')\n",
    "plt.ylabel('Temperature (Fahrenheit)')\n",
    "plt.grid(alpha=0.5)\n",
    "\n",
    "# Save the image\n",
    "plt.savefig(\"../Images/LatvsTemperature.png\")\n",
    "plt.show()"
   ]
  },
  {
   "cell_type": "markdown",
   "metadata": {},
   "source": [
    "#### Latitude vs. Humidity Plot"
   ]
  },
  {
   "cell_type": "code",
   "execution_count": 15,
   "metadata": {},
   "outputs": [
    {
     "data": {
      "image/png": "[encoded data removed]",
      "text/plain": [
       "<Figure size 432x288 with 1 Axes>"
      ]
     },
     "metadata": {
      "needs_background": "light"
     },
     "output_type": "display_data"
    }
   ],
   "source": [
    "# Plot Latitude vs Humidity\n",
    "plt.scatter(weather[\"Lat\"], weather[\"Humidity\"], c=\"b\", alpha=0.5)\n",
    "plt.title(f'Latitude vs Humidity ({timeString})')\n",
    "plt.xlabel('Latitude')\n",
    "plt.ylabel('Humidity (%)')\n",
    "plt.grid(alpha=0.5)\n",
    "\n",
    "# Save the image\n",
    "plt.savefig(\"../Images/LatvsHumidity.png\")\n",
    "plt.show()"
   ]
  },
  {
   "cell_type": "markdown",
   "metadata": {},
   "source": [
    "#### Latitude vs. Cloudiness Plot"
   ]
  },
  {
   "cell_type": "code",
   "execution_count": 16,
   "metadata": {},
   "outputs": [
    {
     "data": {
      "image/png": "[encoded data removed]",
      "text/plain": [
       "<Figure size 432x288 with 1 Axes>"
      ]
     },
     "metadata": {
      "needs_background": "light"
     },
     "output_type": "display_data"
    }
   ],
   "source": [
    "# Plot Latitude vs Cloudiness\n",
    "plt.scatter(weather[\"Lat\"], weather[\"Cloudiness\"], c=\"b\", alpha=0.5)\n",
    "plt.title(f'Latitude vs Cloudiness % ({timeString})')\n",
    "plt.xlabel('Latitude')\n",
    "plt.ylabel('Cloudiness (%)')\n",
    "plt.grid(alpha=0.5)\n",
    "\n",
    "# Save the image\n",
    "plt.savefig(\"../Images/LatvsCloudiness.png\")\n",
    "plt.show()"
   ]
  },
  {
   "cell_type": "markdown",
   "metadata": {},
   "source": [
    "#### Latitude vs. Wind Speed Plot"
   ]
  },
  {
   "cell_type": "code",
   "execution_count": 17,
   "metadata": {},
   "outputs": [
    {
     "data": {
      "image/png": "[encoded data removed]",
      "text/plain": [
       "<Figure size 432x288 with 1 Axes>"
      ]
     },
     "metadata": {
      "needs_background": "light"
     },
     "output_type": "display_data"
    }
   ],
   "source": [
    "# Plot Latitude vs Cloudiness\n",
    "plt.scatter(weather[\"Lat\"], weather[\"Wind Speed\"], c=\"b\", alpha=0.5)\n",
    "plt.title(f'Latitude vs Wind Speed (mph) ({timeString})')\n",
    "plt.xlabel('Latitude')\n",
    "plt.ylabel('Wind Speed (mph)')\n",
    "plt.grid(alpha=0.5)\n",
    "\n",
    "# Save the image\n",
    "plt.savefig(\"../Images/LatvsWindSpeed.png\")\n",
    "plt.show()"
   ]
  },
  {
   "cell_type": "markdown",
   "metadata": {},
   "source": [
    "## Longitude vs Latitude\n",
    "Checking for relatively even distribution of resulting cities."
   ]
  },
  {
   "cell_type": "code",
   "execution_count": 19,
   "metadata": {},
   "outputs": [
    {
     "data": {
      "image/png": "[encoded data removed]",
      "text/plain": [
       "<Figure size 432x288 with 1 Axes>"
      ]
     },
     "metadata": {
      "needs_background": "light"
     },
     "output_type": "display_data"
    }
   ],
   "source": [
    "# Plot Latitude vs Cloudiness\n",
    "plt.scatter(weather[\"Lon\"], weather[\"Lat\"], c=\"b\", alpha=0.5)\n",
    "plt.title(f'Latitude vs Longitude ({timeString})')\n",
    "plt.xlabel('Longitude')\n",
    "plt.ylabel('Latitude')\n",
    "plt.grid(alpha=0.5)\n",
    "\n",
    "# Save the image\n",
    "plt.savefig(\"../Images/LatvsLonDisbursement_Final.png\")\n",
    "plt.show()"
   ]
  },
  {
   "cell_type": "markdown",
   "metadata": {},
   "source": [
    "## Notes\n",
    "* citipy only considers cities with at least 500 in their population.  This has a potential for eliminating cities that might be closer to the North Pole or South Pole, resuling in fewer data points at the latitude extremes.\n",
    "* citipy is a limited interface that only returns city and country code, but often there is more than one city in a country with the same name, which could result in multiple responses when calling the open weather map api.  \n",
    "    - While I assumed the first response was the best, this could be improved upon by comparing each result to the original latitude and longitude to select the correct city.\n",
    "* Based on multiple cities within the same country sharing a name, I tried using the latitude and longitude directly when calling the open weather map api.  I expected to get a higher percetage of successful results, but instead I received fewer.  Because our Latitude and Longitude are randomly generated they are not necessarily in an area that reports on weather.  The usage of the citipy api improves the probably of finding a result in the open weather map api, although there is some loss in data in both approaches."
   ]
  },
  {
   "cell_type": "code",
   "execution_count": null,
   "metadata": {},
   "outputs": [],
   "source": []
  }
 ],
 "metadata": {
  "anaconda-cloud": {},
  "kernel_info": {
   "name": "python3"
  },
  "kernelspec": {
   "display_name": "Python 3",
   "language": "python",
   "name": "python3"
  },
  "language_info": {
   "codemirror_mode": {
    "name": "ipython",
    "version": 3
   },
   "file_extension": ".py",
   "mimetype": "text/x-python",
   "name": "python",
   "nbconvert_exporter": "python",
   "pygments_lexer": "ipython3",
   "version": "3.6.9"
  },
  "nteract": {
   "version": "0.12.3"
  }
 },
 "nbformat": 4,
 "nbformat_minor": 2
}
