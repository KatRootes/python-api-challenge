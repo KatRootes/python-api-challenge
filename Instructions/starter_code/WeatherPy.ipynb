{
 "cells": [
  {
   "cell_type": "markdown",
   "metadata": {},
   "source": [
    "# WeatherPy\n",
    "----\n",
    "\n",
    "#### Note\n",
    "* Instructions have been included for each segment. You do not have to follow them exactly, but they are included to help you think through the steps."
   ]
  },
  {
   "cell_type": "code",
   "execution_count": 1,
   "metadata": {
    "scrolled": true
   },
   "outputs": [],
   "source": [
    "# Dependencies and Setup\n",
    "import matplotlib.pyplot as plt\n",
    "import pandas as pd\n",
    "import numpy as np\n",
    "import requests\n",
    "import time\n",
    "import json\n",
    "\n",
    "# Import API key\n",
    "from api_keys import api_key\n",
    "\n",
    "# Incorporated citipy to determine city and country code based on latitude and longitude\n",
    "from citipy import citipy\n",
    "\n",
    "# Output File (CSV)\n",
    "output_data_file = \"output_data/cities.csv\"\n",
    "\n",
    "# Range of latitudes and longitudes\n",
    "lat_range = (-90, 90)\n",
    "lng_range = (-180, 180)"
   ]
  },
  {
   "cell_type": "code",
   "execution_count": 2,
   "metadata": {},
   "outputs": [],
   "source": [
    "# Save config information.\n",
    "weatherUrl = \"http://api.openweathermap.org/data/2.5/weather?\"\n",
    "units = \"imperial\"\n",
    "\n",
    "# Build partial query URL\n",
    "weatherQueryUrl = f\"{weatherUrl}appid={api_key}&units={units}&q=\""
   ]
  },
  {
   "cell_type": "markdown",
   "metadata": {},
   "source": [
    "## Generate Cities List\n",
    "NOTE:  citipy only looks for cities with at least 500 people.  This may impact our ability to find cities near the two poles if population density is not high enough."
   ]
  },
  {
   "cell_type": "code",
   "execution_count": 3,
   "metadata": {},
   "outputs": [
    {
     "data": {
      "text/html": [
       "<div>\n",
       "<style scoped>\n",
       "    .dataframe tbody tr th:only-of-type {\n",
       "        vertical-align: middle;\n",
       "    }\n",
       "\n",
       "    .dataframe tbody tr th {\n",
       "        vertical-align: top;\n",
       "    }\n",
       "\n",
       "    .dataframe thead th {\n",
       "        text-align: right;\n",
       "    }\n",
       "</style>\n",
       "<table border=\"1\" class=\"dataframe\">\n",
       "  <thead>\n",
       "    <tr style=\"text-align: right;\">\n",
       "      <th></th>\n",
       "      <th>City</th>\n",
       "      <th>Country Code</th>\n",
       "      <th>Latitude Random</th>\n",
       "      <th>Longitude Random</th>\n",
       "    </tr>\n",
       "  </thead>\n",
       "  <tbody>\n",
       "    <tr>\n",
       "      <td>0</td>\n",
       "      <td>kailua</td>\n",
       "      <td>us</td>\n",
       "      <td>36.509240</td>\n",
       "      <td>-151.052440</td>\n",
       "    </tr>\n",
       "    <tr>\n",
       "      <td>1</td>\n",
       "      <td>puerto ayora</td>\n",
       "      <td>ec</td>\n",
       "      <td>0.880338</td>\n",
       "      <td>-104.321839</td>\n",
       "    </tr>\n",
       "    <tr>\n",
       "      <td>2</td>\n",
       "      <td>eyl</td>\n",
       "      <td>so</td>\n",
       "      <td>7.003522</td>\n",
       "      <td>49.741312</td>\n",
       "    </tr>\n",
       "    <tr>\n",
       "      <td>3</td>\n",
       "      <td>kapaa</td>\n",
       "      <td>us</td>\n",
       "      <td>18.837027</td>\n",
       "      <td>-179.756201</td>\n",
       "    </tr>\n",
       "    <tr>\n",
       "      <td>4</td>\n",
       "      <td>taolanaro</td>\n",
       "      <td>mg</td>\n",
       "      <td>-35.777336</td>\n",
       "      <td>53.163998</td>\n",
       "    </tr>\n",
       "  </tbody>\n",
       "</table>\n",
       "</div>"
      ],
      "text/plain": [
       "           City Country Code  Latitude Random  Longitude Random\n",
       "0        kailua           us        36.509240       -151.052440\n",
       "1  puerto ayora           ec         0.880338       -104.321839\n",
       "2           eyl           so         7.003522         49.741312\n",
       "3         kapaa           us        18.837027       -179.756201\n",
       "4     taolanaro           mg       -35.777336         53.163998"
      ]
     },
     "execution_count": 3,
     "metadata": {},
     "output_type": "execute_result"
    }
   ],
   "source": [
    "# List for holding lat_lngs and cities\n",
    "lat_lngs = []\n",
    "locations = pd.DataFrame()\n",
    "\n",
    "# Create a set of random lat and lng combinations\n",
    "lats = np.random.uniform(low=-90.000, high=90.000, size=5)\n",
    "lngs = np.random.uniform(low=-180.000, high=180.000, size=5)\n",
    "lat_lngs = zip(lats, lngs)\n",
    "\n",
    "# Create a dataframe to store the locations\n",
    "# NOTE:  Because these are randomly generated, some will not be mapped to a city\n",
    "latLngs = pd.DataFrame(list(zip(lats,lngs)), columns=[\"Latitude\", \"Longitude\"])\n",
    "\n",
    "# Identify nearest city for each lat, lng combination\n",
    "i = 0\n",
    "for lat_lng in lat_lngs:\n",
    "    result = citipy.nearest_city(lat_lng[0], lat_lng[1])\n",
    "    city = result.city_name\n",
    "    countryCode = result.country_code\n",
    "   \n",
    "    # add it to a our cities list\n",
    "    locations.loc[i,\"City\"] = city\n",
    "    locations.loc[i, \"Country Code\"] = countryCode\n",
    "\n",
    "    # add in the original latitude and Longitude for comparison to the found city lat,Lon later\n",
    "    locations.loc[i,\"Latitude Random\"] = lat_lng[0]\n",
    "    locations.loc[i,\"Longitude Random\"] = lat_lng[1]\n",
    "    i+=1\n",
    "    \n",
    "\n",
    "# Display the locations after removing duplicates\n",
    "locations = locations.drop_duplicates(keep=\"first\")\n",
    "locations.head()"
   ]
  },
  {
   "cell_type": "code",
   "execution_count": 4,
   "metadata": {},
   "outputs": [
    {
     "name": "stdout",
     "output_type": "stream",
     "text": [
      "Restart!  Increase the number of random locations.  Only 5 were identified.  500 are required.\n"
     ]
    }
   ],
   "source": [
    "# Ensure that at least 500 unique cities were found\n",
    "if len(locations) >= 500:\n",
    "    print(f\"Good to proceed!  {len(locations)} unique cities were identified!\")\n",
    "else:\n",
    "    print(f\"Restart!  Increase the number of random locations.  Only {len(locations)} were identified.  500 are required.\")"
   ]
  },
  {
   "cell_type": "markdown",
   "metadata": {},
   "source": [
    "## Latitude vs Longitude\n",
    "Check for even distribution amongst the random locations"
   ]
  },
  {
   "cell_type": "code",
   "execution_count": 31,
   "metadata": {},
   "outputs": [
    {
     "data": {
      "image/png": "[encoded data removed]",
      "text/plain": [
       "<Figure size 432x288 with 1 Axes>"
      ]
     },
     "metadata": {
      "needs_background": "light"
     },
     "output_type": "display_data"
    }
   ],
   "source": [
    "# Plot Latitude vs Longitude across the random data points we started with\n",
    "plt.scatter(lngs, lats, c=\"b\", alpha=0.5)\n",
    "plt.title(f'Latitude vs Longitude')\n",
    "plt.xlabel('Longitude')\n",
    "plt.ylabel('Latitude')\n",
    "plt.xlim(lng_range)\n",
    "plt.ylim(lat_range)\n",
    "plt.grid(alpha=0.5)\n",
    "\n",
    "# Save the image\n",
    "plt.savefig(\"../Images/LatvsLonDisbursement_RandomNoCityYet.png\")\n",
    "plt.show()"
   ]
  },
  {
   "cell_type": "markdown",
   "metadata": {},
   "source": [
    "### Perform API Calls\n",
    "* Perform a weather check on each city using a series of successive API calls.\n",
    "* Include a print log of each city as it'sbeing processed (with the city number and city name).\n"
   ]
  },
  {
   "cell_type": "code",
   "execution_count": 6,
   "metadata": {},
   "outputs": [
    {
     "data": {
      "text/html": [
       "<div>\n",
       "<style scoped>\n",
       "    .dataframe tbody tr th:only-of-type {\n",
       "        vertical-align: middle;\n",
       "    }\n",
       "\n",
       "    .dataframe tbody tr th {\n",
       "        vertical-align: top;\n",
       "    }\n",
       "\n",
       "    .dataframe thead th {\n",
       "        text-align: right;\n",
       "    }\n",
       "</style>\n",
       "<table border=\"1\" class=\"dataframe\">\n",
       "  <thead>\n",
       "    <tr style=\"text-align: right;\">\n",
       "      <th></th>\n",
       "    </tr>\n",
       "  </thead>\n",
       "  <tbody>\n",
       "  </tbody>\n",
       "</table>\n",
       "</div>"
      ],
      "text/plain": [
       "Empty DataFrame\n",
       "Columns: []\n",
       "Index: []"
      ]
     },
     "execution_count": 6,
     "metadata": {},
     "output_type": "execute_result"
    }
   ],
   "source": [
    "# Create a data frame for our results\n",
    "weather = pd.DataFrame()\n",
    "weather"
   ]
  },
  {
   "cell_type": "code",
   "execution_count": 7,
   "metadata": {},
   "outputs": [
    {
     "name": "stdout",
     "output_type": "stream",
     "text": [
      "City [0] = Kailua\n",
      "City [1] = Puerto Ayora\n",
      "City [2] = Eyl\n",
      "City [3] = Kapaa\n",
      "Missing field/result for taolanaro, mg... skipping.\n"
     ]
    }
   ],
   "source": [
    "# Loop through the cities and if a result is obtained, append to the weather dataframe\n",
    "for index, location in locations.iterrows():\n",
    "    \n",
    "    # Limit of 60 calls per minute or we get locked out, so sleep between calls\n",
    "    time.sleep(2)\n",
    "    \n",
    "    # request the weather\n",
    "    response = requests.get(weatherQueryUrl + locations.loc[index][\"City\"] + \",\" + locations.loc[index][\"Country Code\"]).json()\n",
    "    \n",
    "    try:\n",
    "       \n",
    "    # if at least one result is found, use the first result :  assumes it will be the best match\n",
    "        if (len(response)>0):\n",
    "            weather.loc[index, \"City\"] = response[\"name\"]\n",
    "            weather.loc[index, \"Cloudiness\"] = response[\"clouds\"][\"all\"]\n",
    "            weather.loc[index, \"Country\"] = response[\"sys\"][\"country\"]\n",
    "            weather.loc[index, \"Humidity\"] = response[\"main\"][\"humidity\"]\n",
    "            weather.loc[index, \"Lat\"] = response[\"coord\"][\"lat\"]\n",
    "            weather.loc[index, \"Lon\"] = response[\"coord\"][\"lon\"]\n",
    "            weather.loc[index, \"Temp\"] = response[\"main\"][\"temp\"]\n",
    "            weather.loc[index, \"Wind Speed\"] = response[\"wind\"][\"speed\"]\n",
    "            \n",
    "            # include the original lat, Lon for graphing actuals vs random later\n",
    "            weather.loc[index, \"Latitude Random\"] = location[\"Latitude Random\"]\n",
    "            weather.loc[index, \"Longitude Random\"] = location[\"Longitude Random\"]\n",
    "            \n",
    "            # print out the found cities\n",
    "            print(f\"City [{index}] = {response['name']}\")\n",
    "            \n",
    "    except(KeyError, IndexError):\n",
    "        # if we hit an exception, pring out what it was for\n",
    "        print(f\"Missing field/result for {locations.loc[index]['City']}, {locations.loc[index]['Country Code']}... skipping.\")\n"
   ]
  },
  {
   "cell_type": "code",
   "execution_count": 8,
   "metadata": {},
   "outputs": [
    {
     "data": {
      "text/html": [
       "<div>\n",
       "<style scoped>\n",
       "    .dataframe tbody tr th:only-of-type {\n",
       "        vertical-align: middle;\n",
       "    }\n",
       "\n",
       "    .dataframe tbody tr th {\n",
       "        vertical-align: top;\n",
       "    }\n",
       "\n",
       "    .dataframe thead th {\n",
       "        text-align: right;\n",
       "    }\n",
       "</style>\n",
       "<table border=\"1\" class=\"dataframe\">\n",
       "  <thead>\n",
       "    <tr style=\"text-align: right;\">\n",
       "      <th></th>\n",
       "      <th>City</th>\n",
       "      <th>Cloudiness</th>\n",
       "      <th>Country</th>\n",
       "      <th>Humidity</th>\n",
       "      <th>Lat</th>\n",
       "      <th>Lon</th>\n",
       "      <th>Temp</th>\n",
       "      <th>Wind Speed</th>\n",
       "      <th>Latitude Random</th>\n",
       "      <th>Longitude Random</th>\n",
       "    </tr>\n",
       "  </thead>\n",
       "  <tbody>\n",
       "    <tr>\n",
       "      <td>0</td>\n",
       "      <td>Kailua</td>\n",
       "      <td>75.0</td>\n",
       "      <td>US</td>\n",
       "      <td>70.0</td>\n",
       "      <td>21.39</td>\n",
       "      <td>-157.74</td>\n",
       "      <td>28.27</td>\n",
       "      <td>3.600</td>\n",
       "      <td>36.509240</td>\n",
       "      <td>-151.052440</td>\n",
       "    </tr>\n",
       "    <tr>\n",
       "      <td>1</td>\n",
       "      <td>Puerto Ayora</td>\n",
       "      <td>20.0</td>\n",
       "      <td>EC</td>\n",
       "      <td>68.0</td>\n",
       "      <td>-0.74</td>\n",
       "      <td>-90.35</td>\n",
       "      <td>20.78</td>\n",
       "      <td>5.700</td>\n",
       "      <td>0.880338</td>\n",
       "      <td>-104.321839</td>\n",
       "    </tr>\n",
       "    <tr>\n",
       "      <td>2</td>\n",
       "      <td>Eyl</td>\n",
       "      <td>0.0</td>\n",
       "      <td>SO</td>\n",
       "      <td>86.0</td>\n",
       "      <td>7.98</td>\n",
       "      <td>49.82</td>\n",
       "      <td>26.24</td>\n",
       "      <td>3.227</td>\n",
       "      <td>7.003522</td>\n",
       "      <td>49.741312</td>\n",
       "    </tr>\n",
       "    <tr>\n",
       "      <td>3</td>\n",
       "      <td>Kapaa</td>\n",
       "      <td>90.0</td>\n",
       "      <td>US</td>\n",
       "      <td>88.0</td>\n",
       "      <td>22.08</td>\n",
       "      <td>-159.32</td>\n",
       "      <td>25.83</td>\n",
       "      <td>6.700</td>\n",
       "      <td>18.837027</td>\n",
       "      <td>-179.756201</td>\n",
       "    </tr>\n",
       "  </tbody>\n",
       "</table>\n",
       "</div>"
      ],
      "text/plain": [
       "           City  Cloudiness Country  Humidity    Lat     Lon   Temp  \\\n",
       "0        Kailua        75.0      US      70.0  21.39 -157.74  28.27   \n",
       "1  Puerto Ayora        20.0      EC      68.0  -0.74  -90.35  20.78   \n",
       "2           Eyl         0.0      SO      86.0   7.98   49.82  26.24   \n",
       "3         Kapaa        90.0      US      88.0  22.08 -159.32  25.83   \n",
       "\n",
       "   Wind Speed  Latitude Random  Longitude Random  \n",
       "0       3.600        36.509240       -151.052440  \n",
       "1       5.700         0.880338       -104.321839  \n",
       "2       3.227         7.003522         49.741312  \n",
       "3       6.700        18.837027       -179.756201  "
      ]
     },
     "execution_count": 8,
     "metadata": {},
     "output_type": "execute_result"
    }
   ],
   "source": [
    "# drop any rows with invalid data\n",
    "weather = weather.dropna(axis=0, how='any', thresh=1, inplace=False)\n",
    "weather"
   ]
  },
  {
   "cell_type": "code",
   "execution_count": 9,
   "metadata": {},
   "outputs": [
    {
     "data": {
      "text/html": [
       "<div>\n",
       "<style scoped>\n",
       "    .dataframe tbody tr th:only-of-type {\n",
       "        vertical-align: middle;\n",
       "    }\n",
       "\n",
       "    .dataframe tbody tr th {\n",
       "        vertical-align: top;\n",
       "    }\n",
       "\n",
       "    .dataframe thead th {\n",
       "        text-align: right;\n",
       "    }\n",
       "</style>\n",
       "<table border=\"1\" class=\"dataframe\">\n",
       "  <thead>\n",
       "    <tr style=\"text-align: right;\">\n",
       "      <th></th>\n",
       "      <th>City</th>\n",
       "      <th>Cloudiness</th>\n",
       "      <th>Country</th>\n",
       "      <th>Humidity</th>\n",
       "      <th>Lat</th>\n",
       "      <th>Lon</th>\n",
       "      <th>Temp</th>\n",
       "      <th>Wind Speed</th>\n",
       "      <th>Latitude Random</th>\n",
       "      <th>Longitude Random</th>\n",
       "      <th>Lat Diff</th>\n",
       "      <th>Lon Diff</th>\n",
       "    </tr>\n",
       "  </thead>\n",
       "  <tbody>\n",
       "    <tr>\n",
       "      <td>0</td>\n",
       "      <td>Kailua</td>\n",
       "      <td>75.0</td>\n",
       "      <td>US</td>\n",
       "      <td>70.0</td>\n",
       "      <td>21.39</td>\n",
       "      <td>-157.74</td>\n",
       "      <td>28.27</td>\n",
       "      <td>3.600</td>\n",
       "      <td>36.509240</td>\n",
       "      <td>-151.052440</td>\n",
       "      <td>15.119240</td>\n",
       "      <td>6.687560</td>\n",
       "    </tr>\n",
       "    <tr>\n",
       "      <td>1</td>\n",
       "      <td>Puerto Ayora</td>\n",
       "      <td>20.0</td>\n",
       "      <td>EC</td>\n",
       "      <td>68.0</td>\n",
       "      <td>-0.74</td>\n",
       "      <td>-90.35</td>\n",
       "      <td>20.78</td>\n",
       "      <td>5.700</td>\n",
       "      <td>0.880338</td>\n",
       "      <td>-104.321839</td>\n",
       "      <td>1.620338</td>\n",
       "      <td>-13.971839</td>\n",
       "    </tr>\n",
       "    <tr>\n",
       "      <td>2</td>\n",
       "      <td>Eyl</td>\n",
       "      <td>0.0</td>\n",
       "      <td>SO</td>\n",
       "      <td>86.0</td>\n",
       "      <td>7.98</td>\n",
       "      <td>49.82</td>\n",
       "      <td>26.24</td>\n",
       "      <td>3.227</td>\n",
       "      <td>7.003522</td>\n",
       "      <td>49.741312</td>\n",
       "      <td>-0.976478</td>\n",
       "      <td>-0.078688</td>\n",
       "    </tr>\n",
       "    <tr>\n",
       "      <td>3</td>\n",
       "      <td>Kapaa</td>\n",
       "      <td>90.0</td>\n",
       "      <td>US</td>\n",
       "      <td>88.0</td>\n",
       "      <td>22.08</td>\n",
       "      <td>-159.32</td>\n",
       "      <td>25.83</td>\n",
       "      <td>6.700</td>\n",
       "      <td>18.837027</td>\n",
       "      <td>-179.756201</td>\n",
       "      <td>-3.242973</td>\n",
       "      <td>-20.436201</td>\n",
       "    </tr>\n",
       "  </tbody>\n",
       "</table>\n",
       "</div>"
      ],
      "text/plain": [
       "           City  Cloudiness Country  Humidity    Lat     Lon   Temp  \\\n",
       "0        Kailua        75.0      US      70.0  21.39 -157.74  28.27   \n",
       "1  Puerto Ayora        20.0      EC      68.0  -0.74  -90.35  20.78   \n",
       "2           Eyl         0.0      SO      86.0   7.98   49.82  26.24   \n",
       "3         Kapaa        90.0      US      88.0  22.08 -159.32  25.83   \n",
       "\n",
       "   Wind Speed  Latitude Random  Longitude Random   Lat Diff   Lon Diff  \n",
       "0       3.600        36.509240       -151.052440  15.119240   6.687560  \n",
       "1       5.700         0.880338       -104.321839   1.620338 -13.971839  \n",
       "2       3.227         7.003522         49.741312  -0.976478  -0.078688  \n",
       "3       6.700        18.837027       -179.756201  -3.242973 -20.436201  "
      ]
     },
     "execution_count": 9,
     "metadata": {},
     "output_type": "execute_result"
    }
   ],
   "source": [
    "# calculate the difference between the found city lat, lon and the original random lat, lon\n",
    "weather[\"Lat Diff\"] = weather[\"Latitude Random\"] - weather[\"Lat\"]\n",
    "weather[\"Lon Diff\"] = weather[\"Longitude Random\"] - weather[\"Lon\"]\n",
    "weather"
   ]
  },
  {
   "cell_type": "markdown",
   "metadata": {},
   "source": [
    "# Comparison of Random Latitude, Longitude to the matched City Lat, Lon"
   ]
  },
  {
   "cell_type": "code",
   "execution_count": 10,
   "metadata": {},
   "outputs": [
    {
     "data": {
      "text/plain": [
       "'10/08/2019'"
      ]
     },
     "execution_count": 10,
     "metadata": {},
     "output_type": "execute_result"
    }
   ],
   "source": [
    "# Grab the date\n",
    "tupleTime = time.localtime() # get struct_time\n",
    "timeString = time.strftime(\"%m/%d/%Y\", tupleTime)\n",
    "timeString"
   ]
  },
  {
   "cell_type": "markdown",
   "metadata": {},
   "source": [
    "### First, look at the differences.\n",
    "Notice that some deltas can be very large.  Therefore the citipy api has a large distance it searches for matches."
   ]
  },
  {
   "cell_type": "code",
   "execution_count": 32,
   "metadata": {},
   "outputs": [
    {
     "data": {
      "image/png": "[encoded data removed]",
      "text/plain": [
       "<Figure size 432x288 with 1 Axes>"
      ]
     },
     "metadata": {
      "needs_background": "light"
     },
     "output_type": "display_data"
    }
   ],
   "source": [
    "# Plot Latitude vs Longitude - (Random - Actual)\n",
    "plt.scatter(weather[\"Lon Diff\"], weather[\"Lat Diff\"], c=\"b\", alpha=0.5)\n",
    "plt.title(f'Latitude vs Longitude (Random - Actual) ({timeString})')\n",
    "plt.xlabel('Longitude')\n",
    "plt.ylabel('Latitude')\n",
    "plt.grid(alpha=0.5)\n",
    "\n",
    "# Save the image\n",
    "plt.savefig(\"../Images/LonLat_Diff.png\")\n",
    "plt.show()"
   ]
  },
  {
   "cell_type": "markdown",
   "metadata": {},
   "source": [
    "### Second, look at both sets of locations plotted together.\n",
    "Very few cities were found near the poles and there are clearly points in the ocean and other places with no cities."
   ]
  },
  {
   "cell_type": "code",
   "execution_count": 33,
   "metadata": {},
   "outputs": [
    {
     "data": {
      "image/png": "[encoded data removed]",
      "text/plain": [
       "<Figure size 432x288 with 1 Axes>"
      ]
     },
     "metadata": {
      "needs_background": "light"
     },
     "output_type": "display_data"
    }
   ],
   "source": [
    "# Plot Latitude vs Longitude - Random vs Actual\n",
    "#plt.figure(figsize=(8,8))\n",
    "plt.scatter(weather[\"Lon\"], weather[\"Lat\"], c=\"g\", alpha=0.5, label=\"City\")\n",
    "plt.scatter(weather[\"Longitude Random\"], weather[\"Latitude Random\"], c=\"b\", alpha=0.5, label=\"Random\")\n",
    "plt.title(f'Latitude vs Longitude Random vs Actual ({timeString})')\n",
    "plt.xlabel('Longitude')\n",
    "plt.ylabel('Latitude')\n",
    "plt.xlim(lng_range)\n",
    "plt.ylim(lat_range)\n",
    "plt.legend(loc=\"best\")\n",
    "plt.grid(alpha=0.5)\n",
    "\n",
    "# Save the image\n",
    "plt.savefig(\"../Images/LatvsLon_RandomvsActual.png\")\n",
    "plt.show()"
   ]
  },
  {
   "cell_type": "markdown",
   "metadata": {},
   "source": [
    "### Convert Raw Data to DataFrame\n",
    "* Export the city data into a .csv.\n",
    "* Display the DataFrame"
   ]
  },
  {
   "cell_type": "code",
   "execution_count": 34,
   "metadata": {},
   "outputs": [],
   "source": [
    "# Save the data to a csv file\n",
    "weather.to_csv(path_or_buf=output_data_file, index=False)"
   ]
  },
  {
   "cell_type": "code",
   "execution_count": 35,
   "metadata": {},
   "outputs": [
    {
     "data": {
      "text/plain": [
       "City                4\n",
       "Cloudiness          4\n",
       "Country             4\n",
       "Humidity            4\n",
       "Lat                 4\n",
       "Lon                 4\n",
       "Temp                4\n",
       "Wind Speed          4\n",
       "Latitude Random     4\n",
       "Longitude Random    4\n",
       "Lat Diff            4\n",
       "Lon Diff            4\n",
       "dtype: int64"
      ]
     },
     "execution_count": 35,
     "metadata": {},
     "output_type": "execute_result"
    }
   ],
   "source": [
    "# Display the dataframe length\n",
    "weather.count()"
   ]
  },
  {
   "cell_type": "code",
   "execution_count": 36,
   "metadata": {},
   "outputs": [
    {
     "data": {
      "text/html": [
       "<div>\n",
       "<style scoped>\n",
       "    .dataframe tbody tr th:only-of-type {\n",
       "        vertical-align: middle;\n",
       "    }\n",
       "\n",
       "    .dataframe tbody tr th {\n",
       "        vertical-align: top;\n",
       "    }\n",
       "\n",
       "    .dataframe thead th {\n",
       "        text-align: right;\n",
       "    }\n",
       "</style>\n",
       "<table border=\"1\" class=\"dataframe\">\n",
       "  <thead>\n",
       "    <tr style=\"text-align: right;\">\n",
       "      <th></th>\n",
       "      <th>City</th>\n",
       "      <th>Cloudiness</th>\n",
       "      <th>Country</th>\n",
       "      <th>Humidity</th>\n",
       "      <th>Lat</th>\n",
       "      <th>Lon</th>\n",
       "      <th>Temp</th>\n",
       "      <th>Wind Speed</th>\n",
       "      <th>Latitude Random</th>\n",
       "      <th>Longitude Random</th>\n",
       "      <th>Lat Diff</th>\n",
       "      <th>Lon Diff</th>\n",
       "    </tr>\n",
       "  </thead>\n",
       "  <tbody>\n",
       "    <tr>\n",
       "      <td>0</td>\n",
       "      <td>Kailua</td>\n",
       "      <td>75.0</td>\n",
       "      <td>US</td>\n",
       "      <td>70.0</td>\n",
       "      <td>21.39</td>\n",
       "      <td>-157.74</td>\n",
       "      <td>28.27</td>\n",
       "      <td>3.600</td>\n",
       "      <td>36.509240</td>\n",
       "      <td>-151.052440</td>\n",
       "      <td>15.119240</td>\n",
       "      <td>6.687560</td>\n",
       "    </tr>\n",
       "    <tr>\n",
       "      <td>1</td>\n",
       "      <td>Puerto Ayora</td>\n",
       "      <td>20.0</td>\n",
       "      <td>EC</td>\n",
       "      <td>68.0</td>\n",
       "      <td>-0.74</td>\n",
       "      <td>-90.35</td>\n",
       "      <td>20.78</td>\n",
       "      <td>5.700</td>\n",
       "      <td>0.880338</td>\n",
       "      <td>-104.321839</td>\n",
       "      <td>1.620338</td>\n",
       "      <td>-13.971839</td>\n",
       "    </tr>\n",
       "    <tr>\n",
       "      <td>2</td>\n",
       "      <td>Eyl</td>\n",
       "      <td>0.0</td>\n",
       "      <td>SO</td>\n",
       "      <td>86.0</td>\n",
       "      <td>7.98</td>\n",
       "      <td>49.82</td>\n",
       "      <td>26.24</td>\n",
       "      <td>3.227</td>\n",
       "      <td>7.003522</td>\n",
       "      <td>49.741312</td>\n",
       "      <td>-0.976478</td>\n",
       "      <td>-0.078688</td>\n",
       "    </tr>\n",
       "    <tr>\n",
       "      <td>3</td>\n",
       "      <td>Kapaa</td>\n",
       "      <td>90.0</td>\n",
       "      <td>US</td>\n",
       "      <td>88.0</td>\n",
       "      <td>22.08</td>\n",
       "      <td>-159.32</td>\n",
       "      <td>25.83</td>\n",
       "      <td>6.700</td>\n",
       "      <td>18.837027</td>\n",
       "      <td>-179.756201</td>\n",
       "      <td>-3.242973</td>\n",
       "      <td>-20.436201</td>\n",
       "    </tr>\n",
       "  </tbody>\n",
       "</table>\n",
       "</div>"
      ],
      "text/plain": [
       "           City  Cloudiness Country  Humidity    Lat     Lon   Temp  \\\n",
       "0        Kailua        75.0      US      70.0  21.39 -157.74  28.27   \n",
       "1  Puerto Ayora        20.0      EC      68.0  -0.74  -90.35  20.78   \n",
       "2           Eyl         0.0      SO      86.0   7.98   49.82  26.24   \n",
       "3         Kapaa        90.0      US      88.0  22.08 -159.32  25.83   \n",
       "\n",
       "   Wind Speed  Latitude Random  Longitude Random   Lat Diff   Lon Diff  \n",
       "0       3.600        36.509240       -151.052440  15.119240   6.687560  \n",
       "1       5.700         0.880338       -104.321839   1.620338 -13.971839  \n",
       "2       3.227         7.003522         49.741312  -0.976478  -0.078688  \n",
       "3       6.700        18.837027       -179.756201  -3.242973 -20.436201  "
      ]
     },
     "execution_count": 36,
     "metadata": {},
     "output_type": "execute_result"
    }
   ],
   "source": [
    "# Display the data frame\n",
    "weather"
   ]
  },
  {
   "cell_type": "markdown",
   "metadata": {},
   "source": [
    "### Plotting the Data\n",
    "* Use proper labeling of the plots using plot titles (including date of analysis) and axes labels.\n",
    "* Save the plotted figures as .pngs."
   ]
  },
  {
   "cell_type": "markdown",
   "metadata": {},
   "source": [
    "#### Latitude vs. Temperature Plot"
   ]
  },
  {
   "cell_type": "code",
   "execution_count": 37,
   "metadata": {},
   "outputs": [
    {
     "data": {
      "image/png": "[encoded data removed]",
      "text/plain": [
       "<Figure size 432x288 with 1 Axes>"
      ]
     },
     "metadata": {
      "needs_background": "light"
     },
     "output_type": "display_data"
    }
   ],
   "source": [
    "# Plot Latitude vs Max Temperature\n",
    "plt.scatter(weather[\"Lat\"], weather[\"Temp\"], c=\"b\", alpha=0.5)\n",
    "plt.title(f'City Latitude vs Temperature (F) ({timeString})')\n",
    "plt.xlabel('Latitude')\n",
    "plt.ylabel('Temperature (Fahrenheit)')\n",
    "plt.xlim(lat_range)\n",
    "plt.grid(alpha=0.5)\n",
    "\n",
    "# Save the image\n",
    "plt.savefig(\"../Images/LatvsTemperature.png\")\n",
    "plt.show()"
   ]
  },
  {
   "cell_type": "markdown",
   "metadata": {},
   "source": [
    "#### Latitude vs. Humidity Plot"
   ]
  },
  {
   "cell_type": "code",
   "execution_count": 38,
   "metadata": {},
   "outputs": [
    {
     "data": {
      "image/png": "[encoded data removed]",
      "text/plain": [
       "<Figure size 432x288 with 1 Axes>"
      ]
     },
     "metadata": {
      "needs_background": "light"
     },
     "output_type": "display_data"
    }
   ],
   "source": [
    "# Plot Latitude vs Humidity\n",
    "plt.scatter(weather[\"Lat\"], weather[\"Humidity\"], c=\"b\", alpha=0.5)\n",
    "plt.title(f'City Latitude vs Humidity ({timeString})')\n",
    "plt.xlabel('Latitude')\n",
    "plt.ylabel('Humidity (%)')\n",
    "plt.xlim(lat_range)\n",
    "plt.grid(alpha=0.5)\n",
    "\n",
    "# Save the image\n",
    "plt.savefig(\"../Images/LatvsHumidity.png\")\n",
    "plt.show()"
   ]
  },
  {
   "cell_type": "markdown",
   "metadata": {},
   "source": [
    "#### Latitude vs. Cloudiness Plot"
   ]
  },
  {
   "cell_type": "code",
   "execution_count": 40,
   "metadata": {},
   "outputs": [
    {
     "data": {
      "image/png": "[encoded data removed]",
      "text/plain": [
       "<Figure size 432x288 with 1 Axes>"
      ]
     },
     "metadata": {
      "needs_background": "light"
     },
     "output_type": "display_data"
    }
   ],
   "source": [
    "# Plot Latitude vs Cloudiness\n",
    "plt.scatter(weather[\"Lat\"], weather[\"Cloudiness\"], c=\"b\", alpha=0.5)\n",
    "plt.title(f'City Latitude vs Cloudiness % ({timeString})')\n",
    "plt.xlabel('Latitude')\n",
    "plt.ylabel('Cloudiness (%)')\n",
    "plt.xlim(lat_range)\n",
    "plt.grid(alpha=0.5)\n",
    "\n",
    "# Save the image\n",
    "plt.savefig(\"../Images/LatvsCloudiness.png\")\n",
    "plt.show()"
   ]
  },
  {
   "cell_type": "markdown",
   "metadata": {},
   "source": [
    "#### Latitude vs. Wind Speed Plot"
   ]
  },
  {
   "cell_type": "code",
   "execution_count": 41,
   "metadata": {},
   "outputs": [
    {
     "data": {
      "image/png": "[encoded data removed]",
      "text/plain": [
       "<Figure size 432x288 with 1 Axes>"
      ]
     },
     "metadata": {
      "needs_background": "light"
     },
     "output_type": "display_data"
    }
   ],
   "source": [
    "# Plot Latitude vs Cloudiness\n",
    "plt.scatter(weather[\"Lat\"], weather[\"Wind Speed\"], c=\"b\", alpha=0.5)\n",
    "plt.title(f'City Latitude vs Wind Speed (mph) ({timeString})')\n",
    "plt.xlabel('Latitude')\n",
    "plt.ylabel('Wind Speed (mph)')\n",
    "plt.xlim(lat_range)\n",
    "plt.grid(alpha=0.5)\n",
    "\n",
    "# Save the image\n",
    "plt.savefig(\"../Images/LatvsWindSpeed.png\")\n",
    "plt.show()"
   ]
  },
  {
   "cell_type": "markdown",
   "metadata": {},
   "source": [
    "## Longitude vs Latitude\n",
    "Checking for relatively even distribution of resulting cities."
   ]
  },
  {
   "cell_type": "code",
   "execution_count": 42,
   "metadata": {},
   "outputs": [
    {
     "data": {
      "image/png": "[encoded data removed]",
      "text/plain": [
       "<Figure size 432x288 with 1 Axes>"
      ]
     },
     "metadata": {
      "needs_background": "light"
     },
     "output_type": "display_data"
    }
   ],
   "source": [
    "# Plot Latitude vs Cloudiness\n",
    "plt.scatter(weather[\"Lon\"], weather[\"Lat\"], c=\"b\", alpha=0.5)\n",
    "plt.title(f'City Latitude vs Longitude ({timeString})')\n",
    "plt.xlabel('Longitude')\n",
    "plt.ylabel('Latitude')\n",
    "plt.xlim(lng_range)\n",
    "plt.ylim(lat_range)\n",
    "plt.grid(alpha=0.5)\n",
    "\n",
    "# Save the image\n",
    "plt.savefig(\"../Images/LatvsLonDisbursement_Final.png\")\n",
    "plt.show()"
   ]
  },
  {
   "cell_type": "markdown",
   "metadata": {},
   "source": [
    "# Observations, tests and conclusions...\n",
    "\n",
    "### citipy observations\n",
    "* citipy only considers cities with at least 500 in their population.  This has a potential for eliminating cities that might be closer to the North Pole or South Pole, resuling in fewer data points at the latitude extremes.\n",
    "* citipy is a limited interface that only returns city and country code, but often there is more than one city in a country with the same name, which could result in multiple responses when calling the open weather map api.\n",
    "    - While I assumed the first response was the best, this could be improved upon by comparing each result to the original latitude and longitude to select the correct city.  I did not pursue this approach, however.\n",
    "    \n",
    "### Test:  Called Open Weather API with random locations rather than cities\n",
    "* Based on multiple cities within the same country sharing a name, I tried using the latitude and longitude directly when calling the open weather map api.  I expected to get a higher percetage of successful results, but instead I received fewer.  Because our Latitude and Longitude are randomly generated they are not necessarily in an area that reports on weather.  The usage of the citipy api improves the probably of finding a result in the open weather map api.  While there is some loss in data in both approaches, the random locations had a much higher drop out rate.\n",
    "* Because using random locations directly produced poor results and because it takes a long time to call citipy api, I removed that code from this jupyter notebook, but I left some of the other things I tried in here anyway.\n",
    "#### Conclusion\n",
    "While coverage starts out better when calling the Open Weather API, the lack of locations in weather reporting ciites results in far fewer data points.  This is a poor approach.  A better approach would be to obtain a list of all cities reporting weather through Open Weather API and randomly select their locations.\n",
    "\n",
    "### Coverage\n",
    "* Plotting original random locations vs city locations shows very few identified cities near the North and especially the South Pole.\n",
    "* In an attempt to force data points near the poles I found a city near each pole and added it's location to my random locations.  However, only one of them was found in citipy.  I removed them for the purpose of completing the homework.  Here are the locations:\n",
    "\n",
    "        Add Northernmost city > 500 Reykjavík, Iceland and Southernmost city > 500 Ushuaia, Argentina \n",
    "        lats = np.append(lats, [64.128288, -54.7999992])\n",
    "        lngs = np.append(lngs, [-21.827774, -68.3000031])"
   ]
  },
  {
   "cell_type": "code",
   "execution_count": null,
   "metadata": {},
   "outputs": [],
   "source": []
  }
 ],
 "metadata": {
  "anaconda-cloud": {},
  "kernel_info": {
   "name": "python3"
  },
  "kernelspec": {
   "display_name": "Python 3",
   "language": "python",
   "name": "python3"
  },
  "language_info": {
   "codemirror_mode": {
    "name": "ipython",
    "version": 3
   },
   "file_extension": ".py",
   "mimetype": "text/x-python",
   "name": "python",
   "nbconvert_exporter": "python",
   "pygments_lexer": "ipython3",
   "version": "3.6.9"
  },
  "nteract": {
   "version": "0.12.3"
  }
 },
 "nbformat": 4,
 "nbformat_minor": 2
}
