{
 "cells": [
  {
   "cell_type": "markdown",
   "metadata": {},
   "source": [
    "# WeatherPy\n",
    "----\n",
    "\n",
    "#### Note\n",
    "* Instructions have been included for each segment. You do not have to follow them exactly, but they are included to help you think through the steps."
   ]
  },
  {
   "cell_type": "code",
   "execution_count": 1,
   "metadata": {
    "scrolled": true
   },
   "outputs": [],
   "source": [
    "# Dependencies and Setup\n",
    "import matplotlib.pyplot as plt\n",
    "import pandas as pd\n",
    "import numpy as np\n",
    "import requests\n",
    "import time\n",
    "import json\n",
    "\n",
    "# Import API key\n",
    "from api_keys import api_key\n",
    "\n",
    "# Incorporated citipy to determine city and country code based on latitude and longitude\n",
    "from citipy import citipy\n",
    "\n",
    "# Output File (CSV)\n",
    "output_data_file = \"output_data/cities.csv\"\n",
    "\n",
    "# Range of latitudes and longitudes\n",
    "lat_range = (-90, 90)\n",
    "lng_range = (-180, 180)"
   ]
  },
  {
   "cell_type": "code",
   "execution_count": 2,
   "metadata": {},
   "outputs": [],
   "source": [
    "# Save config information.\n",
    "weatherUrl = \"http://api.openweathermap.org/data/2.5/weather?\"\n",
    "units = \"metric\"\n",
    "\n",
    "# Build partial query URL\n",
    "weatherQueryUrl = f\"{weatherUrl}appid={api_key}&units={units}&q=\""
   ]
  },
  {
   "cell_type": "markdown",
   "metadata": {},
   "source": [
    "## Generate Cities List\n",
    "NOTE:  citipy only looks for cities with at least 500 people.  This may impact our ability to find cities near the two poles if population density is not high enough."
   ]
  },
  {
   "cell_type": "code",
   "execution_count": 3,
   "metadata": {},
   "outputs": [
    {
     "data": {
      "text/plain": [
       "7"
      ]
     },
     "execution_count": 3,
     "metadata": {},
     "output_type": "execute_result"
    }
   ],
   "source": [
    "# List for holding lat_lngs and cities\n",
    "lat_lngs = []\n",
    "locations = pd.DataFrame()\n",
    "\n",
    "# Create a set of random lat and lng combinations\n",
    "lats = np.random.uniform(low=-90.000, high=90.000, size=5)\n",
    "lngs = np.random.uniform(low=-180.000, high=180.000, size=5)\n",
    "\n",
    "# Add Northernmost city > 500 Reykjavík, Iceland\n",
    "# Add Southernmost city > 500 Ushuaia, Argentina \n",
    "lats = np.append(lats, [64.128288, -54.7999992])\n",
    "lngs = np.append(lngs, [-21.827774, -68.3000031])\n",
    "\n",
    "lat_lngs = zip(lats, lngs)\n",
    "\n",
    "\n",
    "# Identify nearest city for each lat, lng combination\n",
    "i = 0\n",
    "for lat_lng in lat_lngs:\n",
    "    result = citipy.nearest_city(lat_lng[0], lat_lng[1])\n",
    "    city = result.city_name\n",
    "    countryCode = result.country_code\n",
    "   \n",
    "    # If the city is unique, then add it to a our cities list\n",
    "    locations.loc[i,\"City\"] = city\n",
    "    locations.loc[i, \"Country Code\"] = countryCode\n",
    "    i+=1\n",
    "\n",
    "# Print the city count to confirm sufficient count\n",
    "locations = locations.drop_duplicates(keep=\"first\")\n",
    "len(locations)"
   ]
  },
  {
   "cell_type": "markdown",
   "metadata": {},
   "source": [
    "## Latitude vs Longitude\n",
    "Check for even distribution"
   ]
  },
  {
   "cell_type": "code",
   "execution_count": 4,
   "metadata": {},
   "outputs": [
    {
     "data": {
      "image/png": "[encoded data removed]",
      "text/plain": [
       "<Figure size 432x288 with 1 Axes>"
      ]
     },
     "metadata": {
      "needs_background": "light"
     },
     "output_type": "display_data"
    }
   ],
   "source": [
    "# Plot Latitude vs Cloudiness\n",
    "plt.scatter(lngs, lats, c=\"b\", alpha=0.5)\n",
    "plt.title(f'Latitude vs Longitude')\n",
    "plt.xlabel('Longitude')\n",
    "plt.ylabel('Latitude')\n",
    "plt.grid(alpha=0.5)\n",
    "plt.show()"
   ]
  },
  {
   "cell_type": "markdown",
   "metadata": {},
   "source": [
    "### Perform API Calls\n",
    "* Perform a weather check on each city using a series of successive API calls.\n",
    "* Include a print log of each city as it'sbeing processed (with the city number and city name).\n"
   ]
  },
  {
   "cell_type": "code",
   "execution_count": 5,
   "metadata": {},
   "outputs": [
    {
     "data": {
      "text/html": [
       "<div>\n",
       "<style scoped>\n",
       "    .dataframe tbody tr th:only-of-type {\n",
       "        vertical-align: middle;\n",
       "    }\n",
       "\n",
       "    .dataframe tbody tr th {\n",
       "        vertical-align: top;\n",
       "    }\n",
       "\n",
       "    .dataframe thead th {\n",
       "        text-align: right;\n",
       "    }\n",
       "</style>\n",
       "<table border=\"1\" class=\"dataframe\">\n",
       "  <thead>\n",
       "    <tr style=\"text-align: right;\">\n",
       "      <th></th>\n",
       "    </tr>\n",
       "  </thead>\n",
       "  <tbody>\n",
       "  </tbody>\n",
       "</table>\n",
       "</div>"
      ],
      "text/plain": [
       "Empty DataFrame\n",
       "Columns: []\n",
       "Index: []"
      ]
     },
     "execution_count": 5,
     "metadata": {},
     "output_type": "execute_result"
    }
   ],
   "source": [
    "weather = pd.DataFrame()\n",
    "weather"
   ]
  },
  {
   "cell_type": "code",
   "execution_count": 6,
   "metadata": {},
   "outputs": [
    {
     "name": "stdout",
     "output_type": "stream",
     "text": [
      "Missing field/result for chagda, ru... skipping.\n"
     ]
    }
   ],
   "source": [
    "#index = 0\n",
    "for index, location in locations.iterrows():\n",
    "    time.sleep(2)\n",
    "    response = requests.get(weatherQueryUrl + locations.loc[index][\"City\"] + \",\" + locations.loc[index][\"Country Code\"]).json()\n",
    "    \n",
    "    try:\n",
    "       \n",
    "        if (len(response)>0):\n",
    "            weather.loc[index, \"City\"] = response[\"name\"]\n",
    "            weather.loc[index, \"Cloudiness\"] = response[\"clouds\"][\"all\"]\n",
    "            weather.loc[index, \"Country\"] = response[\"sys\"][\"country\"]\n",
    "            weather.loc[index, \"Humidity\"] = response[\"main\"][\"humidity\"]\n",
    "            weather.loc[index, \"Lat\"] = response[\"coord\"][\"lat\"]\n",
    "            weather.loc[index, \"Lon\"] = response[\"coord\"][\"lon\"]\n",
    "            weather.loc[index, \"Temp\"] = response[\"main\"][\"temp\"]\n",
    "            weather.loc[index, \"Wind Speed\"] = response[\"wind\"][\"speed\"]\n",
    "                \n",
    "    except(KeyError, IndexError):\n",
    "        print(f\"Missing field/result for {locations.loc[index]['City']}, {locations.loc[index]['Country Code']}... skipping.\")\n"
   ]
  },
  {
   "cell_type": "code",
   "execution_count": 7,
   "metadata": {},
   "outputs": [
    {
     "data": {
      "text/html": [
       "<div>\n",
       "<style scoped>\n",
       "    .dataframe tbody tr th:only-of-type {\n",
       "        vertical-align: middle;\n",
       "    }\n",
       "\n",
       "    .dataframe tbody tr th {\n",
       "        vertical-align: top;\n",
       "    }\n",
       "\n",
       "    .dataframe thead th {\n",
       "        text-align: right;\n",
       "    }\n",
       "</style>\n",
       "<table border=\"1\" class=\"dataframe\">\n",
       "  <thead>\n",
       "    <tr style=\"text-align: right;\">\n",
       "      <th></th>\n",
       "      <th>City</th>\n",
       "      <th>Cloudiness</th>\n",
       "      <th>Country</th>\n",
       "      <th>Humidity</th>\n",
       "      <th>Lat</th>\n",
       "      <th>Lon</th>\n",
       "      <th>Temp</th>\n",
       "      <th>Wind Speed</th>\n",
       "    </tr>\n",
       "  </thead>\n",
       "  <tbody>\n",
       "    <tr>\n",
       "      <td>1</td>\n",
       "      <td>Geraldton</td>\n",
       "      <td>0.0</td>\n",
       "      <td>AU</td>\n",
       "      <td>87.0</td>\n",
       "      <td>-28.77</td>\n",
       "      <td>114.60</td>\n",
       "      <td>9.00</td>\n",
       "      <td>3.10</td>\n",
       "    </tr>\n",
       "    <tr>\n",
       "      <td>2</td>\n",
       "      <td>Martin</td>\n",
       "      <td>1.0</td>\n",
       "      <td>US</td>\n",
       "      <td>29.0</td>\n",
       "      <td>43.17</td>\n",
       "      <td>-101.73</td>\n",
       "      <td>16.00</td>\n",
       "      <td>7.70</td>\n",
       "    </tr>\n",
       "    <tr>\n",
       "      <td>3</td>\n",
       "      <td>Constitucion</td>\n",
       "      <td>40.0</td>\n",
       "      <td>MX</td>\n",
       "      <td>25.0</td>\n",
       "      <td>23.99</td>\n",
       "      <td>-104.67</td>\n",
       "      <td>25.00</td>\n",
       "      <td>4.10</td>\n",
       "    </tr>\n",
       "    <tr>\n",
       "      <td>4</td>\n",
       "      <td>Busselton</td>\n",
       "      <td>0.0</td>\n",
       "      <td>AU</td>\n",
       "      <td>72.0</td>\n",
       "      <td>-33.64</td>\n",
       "      <td>115.35</td>\n",
       "      <td>7.40</td>\n",
       "      <td>4.91</td>\n",
       "    </tr>\n",
       "    <tr>\n",
       "      <td>5</td>\n",
       "      <td>Kopavogur</td>\n",
       "      <td>75.0</td>\n",
       "      <td>IS</td>\n",
       "      <td>87.0</td>\n",
       "      <td>64.11</td>\n",
       "      <td>-21.91</td>\n",
       "      <td>8.76</td>\n",
       "      <td>4.60</td>\n",
       "    </tr>\n",
       "    <tr>\n",
       "      <td>6</td>\n",
       "      <td>Ushuaia</td>\n",
       "      <td>100.0</td>\n",
       "      <td>AR</td>\n",
       "      <td>94.0</td>\n",
       "      <td>-54.81</td>\n",
       "      <td>-68.31</td>\n",
       "      <td>0.93</td>\n",
       "      <td>3.78</td>\n",
       "    </tr>\n",
       "  </tbody>\n",
       "</table>\n",
       "</div>"
      ],
      "text/plain": [
       "           City  Cloudiness Country  Humidity    Lat     Lon   Temp  \\\n",
       "1     Geraldton         0.0      AU      87.0 -28.77  114.60   9.00   \n",
       "2        Martin         1.0      US      29.0  43.17 -101.73  16.00   \n",
       "3  Constitucion        40.0      MX      25.0  23.99 -104.67  25.00   \n",
       "4     Busselton         0.0      AU      72.0 -33.64  115.35   7.40   \n",
       "5     Kopavogur        75.0      IS      87.0  64.11  -21.91   8.76   \n",
       "6       Ushuaia       100.0      AR      94.0 -54.81  -68.31   0.93   \n",
       "\n",
       "   Wind Speed  \n",
       "1        3.10  \n",
       "2        7.70  \n",
       "3        4.10  \n",
       "4        4.91  \n",
       "5        4.60  \n",
       "6        3.78  "
      ]
     },
     "execution_count": 7,
     "metadata": {},
     "output_type": "execute_result"
    }
   ],
   "source": [
    "weather = weather.dropna(axis=0, how='any', thresh=1, inplace=False)\n",
    "weather"
   ]
  },
  {
   "cell_type": "markdown",
   "metadata": {},
   "source": [
    "### Convert Raw Data to DataFrame\n",
    "* Export the city data into a .csv.\n",
    "* Display the DataFrame"
   ]
  },
  {
   "cell_type": "code",
   "execution_count": 8,
   "metadata": {},
   "outputs": [
    {
     "data": {
      "text/plain": [
       "'10/06/2019'"
      ]
     },
     "execution_count": 8,
     "metadata": {},
     "output_type": "execute_result"
    }
   ],
   "source": [
    "# Grab the date\n",
    "tupleTime = time.localtime() # get struct_time\n",
    "timeString = time.strftime(\"%m/%d/%Y\", tupleTime)\n",
    "timeString"
   ]
  },
  {
   "cell_type": "markdown",
   "metadata": {},
   "source": [
    "### Plotting the Data\n",
    "* Use proper labeling of the plots using plot titles (including date of analysis) and axes labels.\n",
    "* Save the plotted figures as .pngs."
   ]
  },
  {
   "cell_type": "markdown",
   "metadata": {},
   "source": [
    "#### Latitude vs. Temperature Plot"
   ]
  },
  {
   "cell_type": "code",
   "execution_count": 9,
   "metadata": {},
   "outputs": [
    {
     "data": {
      "image/png": "[encoded data removed]",
      "text/plain": [
       "<Figure size 432x288 with 1 Axes>"
      ]
     },
     "metadata": {
      "needs_background": "light"
     },
     "output_type": "display_data"
    }
   ],
   "source": [
    "# Plot Latitude vs Max Temperature\n",
    "plt.scatter(weather[\"Lat\"], weather[\"Temp\"], c=\"b\", alpha=0.5)\n",
    "plt.title(f'Latitude vs Max Temperature ({timeString})')\n",
    "plt.xlabel('Latitude')\n",
    "plt.ylabel('Temperature (Fahrenheit)')\n",
    "plt.grid(alpha=0.5)\n",
    "plt.show()"
   ]
  },
  {
   "cell_type": "markdown",
   "metadata": {},
   "source": [
    "#### Latitude vs. Humidity Plot"
   ]
  },
  {
   "cell_type": "code",
   "execution_count": 10,
   "metadata": {},
   "outputs": [
    {
     "data": {
      "image/png": "[encoded data removed]",
      "text/plain": [
       "<Figure size 432x288 with 1 Axes>"
      ]
     },
     "metadata": {
      "needs_background": "light"
     },
     "output_type": "display_data"
    }
   ],
   "source": [
    "# Plot Latitude vs Humidity\n",
    "plt.scatter(weather[\"Lat\"], weather[\"Humidity\"], c=\"b\", alpha=0.5)\n",
    "plt.title(f'Latitude vs Humidity ({timeString})')\n",
    "plt.xlabel('Latitude')\n",
    "plt.ylabel('Humidity (%)')\n",
    "plt.grid(alpha=0.5)\n",
    "plt.show()"
   ]
  },
  {
   "cell_type": "markdown",
   "metadata": {},
   "source": [
    "#### Latitude vs. Cloudiness Plot"
   ]
  },
  {
   "cell_type": "code",
   "execution_count": 11,
   "metadata": {},
   "outputs": [
    {
     "data": {
      "image/png": "[encoded data removed]",
      "text/plain": [
       "<Figure size 432x288 with 1 Axes>"
      ]
     },
     "metadata": {
      "needs_background": "light"
     },
     "output_type": "display_data"
    }
   ],
   "source": [
    "# Plot Latitude vs Cloudiness\n",
    "plt.scatter(weather[\"Lat\"], weather[\"Cloudiness\"], c=\"b\", alpha=0.5)\n",
    "plt.title(f'Latitude vs Cloudiness % ({timeString})')\n",
    "plt.xlabel('Latitude')\n",
    "plt.ylabel('Cloudiness (%)')\n",
    "plt.grid(alpha=0.5)\n",
    "plt.show()"
   ]
  },
  {
   "cell_type": "markdown",
   "metadata": {},
   "source": [
    "#### Latitude vs. Wind Speed Plot"
   ]
  },
  {
   "cell_type": "code",
   "execution_count": 12,
   "metadata": {},
   "outputs": [
    {
     "data": {
      "image/png": "[encoded data removed]",
      "text/plain": [
       "<Figure size 432x288 with 1 Axes>"
      ]
     },
     "metadata": {
      "needs_background": "light"
     },
     "output_type": "display_data"
    }
   ],
   "source": [
    "# Plot Latitude vs Cloudiness\n",
    "plt.scatter(weather[\"Lat\"], weather[\"Wind Speed\"], c=\"b\", alpha=0.5)\n",
    "plt.title(f'Latitude vs Wind Speed (mph) ({timeString})')\n",
    "plt.xlabel('Latitude')\n",
    "plt.ylabel('Wind Speed (mph)')\n",
    "plt.grid(alpha=0.5)\n",
    "plt.show()"
   ]
  },
  {
   "cell_type": "markdown",
   "metadata": {},
   "source": [
    "## Longitude vs Latitude\n",
    "Checking for relatively even distribution of resulting cities."
   ]
  },
  {
   "cell_type": "code",
   "execution_count": 13,
   "metadata": {},
   "outputs": [
    {
     "data": {
      "image/png": "[encoded data removed]",
      "text/plain": [
       "<Figure size 432x288 with 1 Axes>"
      ]
     },
     "metadata": {
      "needs_background": "light"
     },
     "output_type": "display_data"
    }
   ],
   "source": [
    "# Plot Latitude vs Cloudiness\n",
    "plt.scatter(weather[\"Lat\"], weather[\"Lon\"], c=\"b\", alpha=0.5)\n",
    "plt.title(f'Latitude vs Longitude ({timeString})')\n",
    "plt.xlabel('Latitude')\n",
    "plt.ylabel('Longitude')\n",
    "plt.grid(alpha=0.5)\n",
    "plt.show()"
   ]
  },
  {
   "cell_type": "code",
   "execution_count": null,
   "metadata": {},
   "outputs": [],
   "source": []
  }
 ],
 "metadata": {
  "anaconda-cloud": {},
  "kernel_info": {
   "name": "python3"
  },
  "kernelspec": {
   "display_name": "Python 3",
   "language": "python",
   "name": "python3"
  },
  "language_info": {
   "codemirror_mode": {
    "name": "ipython",
    "version": 3
   },
   "file_extension": ".py",
   "mimetype": "text/x-python",
   "name": "python",
   "nbconvert_exporter": "python",
   "pygments_lexer": "ipython3",
   "version": "3.6.9"
  },
  "nteract": {
   "version": "0.12.3"
  }
 },
 "nbformat": 4,
 "nbformat_minor": 2
}
